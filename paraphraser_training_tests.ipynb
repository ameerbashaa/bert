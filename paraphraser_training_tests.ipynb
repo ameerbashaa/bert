{
 "cells": [
  {
   "cell_type": "code",
   "execution_count": 1,
   "metadata": {},
   "outputs": [],
   "source": [
    "# uncomment preferred option\n",
    "#!pip install -q git+https://github.com/deepmipt/bert.git@feat/keras deeppavlov tensorflow-gpu==1.14.0\n",
    "#!pip install -q git+https://github.com/deepmipt/bert.git@feat/keras deeppavlov tensorflow-gpu==2.0.0b1"
   ]
  },
  {
   "cell_type": "code",
   "execution_count": 2,
   "metadata": {},
   "outputs": [
    {
     "data": {
      "text/plain": [
       "True"
      ]
     },
     "execution_count": 2,
     "metadata": {},
     "output_type": "execute_result"
    }
   ],
   "source": [
    "import tensorflow as tf\n",
    "import numpy as np\n",
    "\n",
    "v = str(tf.__version__).split('.')[:2]\n",
    "assert int(v[0]) > 1 or (int(v[1]) >= 13), 'this notebook was tested with TF v1.14.0 and v2.0.0-beta1'\n",
    "tf.compat.v1.enable_eager_execution()\n",
    "is_eager = tf.compat.v1.executing_eagerly()\n",
    "is_eager"
   ]
  },
  {
   "cell_type": "code",
   "execution_count": 3,
   "metadata": {},
   "outputs": [],
   "source": [
    "from bert_dp import bert\n",
    "from bert_dp.metrics import F1Score"
   ]
  },
  {
   "cell_type": "markdown",
   "metadata": {
    "pycharm": {
     "name": "#%% md\n"
    }
   },
   "source": [
    "## Paraphrases data"
   ]
  },
  {
   "cell_type": "code",
   "execution_count": 18,
   "metadata": {},
   "outputs": [],
   "source": [
    "BATCH_SIZE = 64  # both for training and evaluation for now\n",
    "MAX_LEN = 128  #!= 52  125 for multi # the longest sequence in the paraphrase dataset, workaroud that make shape of all batch tensors equal\n",
    "NUM_TRAIN_SAMPLES = 6656  # total of 7202 samples minus ~500 (actually 546) samples for validation\n",
    "DYNAMIC_SEQ_LEN = True  # whether to pad each batch to the maximum length in the batch or in the whole dataset\n",
    "NUM_CLASSES = 2  # binary classification as multiclass\n",
    "DROP_REMAINDER = True # whether to for batches of fixed size"
   ]
  },
  {
   "cell_type": "code",
   "execution_count": 5,
   "metadata": {},
   "outputs": [
    {
     "data": {
      "text/plain": [
       "'./models/multi_cased_L-12_H-768_A-12.tar.gz'"
      ]
     },
     "execution_count": 5,
     "metadata": {},
     "output_type": "execute_result"
    }
   ],
   "source": [
    "tf.keras.utils.get_file(\n",
    "    fname='paraphraser.zip',\n",
    "    origin='http://files.deeppavlov.ai/datasets/paraphraser.zip',\n",
    "    cache_subdir='dataset',\n",
    "    extract=True,\n",
    "    cache_dir='.'\n",
    ")\n",
    "tf.keras.utils.get_file(\n",
    "    fname='paraphraser_gold.zip',\n",
    "    origin='http://files.deeppavlov.ai/datasets/paraphraser_gold.zip',\n",
    "    cache_subdir='dataset',\n",
    "    extract=True,\n",
    "    archive_format='zip',\n",
    "    cache_dir='.'\n",
    ")\n",
    "tf.keras.utils.get_file(\n",
    "    fname='multi_cased_L-12_H-768_A-12.tar.gz',\n",
    "    origin='https://storage.googleapis.com/bert_models/2018_11_23/multi_cased_L-12_H-768_A-12.zip',\n",
    "    cache_subdir='models',\n",
    "    extract=True,\n",
    "    cache_dir='.'\n",
    ")"
   ]
  },
  {
   "cell_type": "code",
   "execution_count": 6,
   "metadata": {},
   "outputs": [],
   "source": [
    "def _truncate_seq_pair(tokens_a, tokens_b, max_length):\n",
    "    \"\"\"Truncates a sequence pair in place to the maximum length.\"\"\"\n",
    "\n",
    "    # This is a simple heuristic which will always truncate the longer sequence\n",
    "    # one token at a time. This makes more sense than truncating an equal percent\n",
    "    # of tokens from each, since if one sequence is very short then each token\n",
    "    # that's truncated likely contains more information than a longer sequence.\n",
    "    while True:\n",
    "        total_length = len(tokens_a) + len(tokens_b)\n",
    "        if total_length <= max_length:\n",
    "            break\n",
    "        if len(tokens_a) > len(tokens_b):\n",
    "            tokens_a.pop()\n",
    "        else:\n",
    "            tokens_b.pop()\n",
    "\n",
    "\n",
    "def data_gen(train_data=True):\n",
    "    from deeppavlov.dataset_readers.paraphraser_reader import ParaphraserReader\n",
    "    from bert_dp.tokenization import FullTokenizer\n",
    "    ds = ParaphraserReader().read(data_path='dataset', do_lower_case=False)\n",
    "    tokenizer = FullTokenizer(vocab_file='models/multi_cased_L-12_H-768_A-12/vocab.txt', do_lower_case=False)\n",
    "    tds = ds['train'] if train_data else ds['test']\n",
    "    for pair, label in tds:\n",
    "        t1 = tokenizer.tokenize(pair[0])\n",
    "        t2 = tokenizer.tokenize(pair[1])\n",
    "        _truncate_seq_pair(t1, t2, 512)\n",
    "        s = ['[CLS]'] + t1 + ['[SEP]'] + t2 + ['[SEP]']\n",
    "        yield tokenizer.convert_tokens_to_ids(s), label"
   ]
  },
  {
   "cell_type": "code",
   "execution_count": 19,
   "metadata": {},
   "outputs": [
    {
     "data": {
      "text/plain": [
       "(7202, 1899)"
      ]
     },
     "execution_count": 19,
     "metadata": {},
     "output_type": "execute_result"
    }
   ],
   "source": [
    "x_train_, y_train_, x_test_, y_test_ = [], [], [], []\n",
    "for x, y in data_gen():\n",
    "    x_train_.append(np.pad(x, pad_width=(0, MAX_LEN - len(x)), mode='constant'))\n",
    "    y_train_.append(y)\n",
    "for x, y in data_gen(train_data=False):\n",
    "    x_test_.append(np.pad(x, pad_width=(0, MAX_LEN - len(x)), mode='constant'))\n",
    "    y_test_.append(y)\n",
    "x_train = np.array(x_train_)\n",
    "y_train = np.array(y_train_)\n",
    "x_test = np.array(x_test_)\n",
    "y_test = np.array(y_test_)\n",
    "len(x_train_), len(x_test_)"
   ]
  },
  {
   "cell_type": "code",
   "execution_count": 20,
   "metadata": {},
   "outputs": [],
   "source": [
    "# train_ds_ = tf.data.Dataset.from_generator(data_gen,\n",
    "#                                            output_types=(tf.int32, tf.int32),\n",
    "#                                            output_shapes=(tf.TensorShape([None]),\n",
    "#                                                           tf.TensorShape([])))\n",
    "# train_ds = train_ds_.take(NUM_TRAIN_SAMPLES)\n",
    "# valid_ds = train_ds_.skip(NUM_TRAIN_SAMPLES)\n",
    "# batched_train_ds = train_ds.padded_batch(batch_size=BATCH_SIZE,\n",
    "#                                          padded_shapes=([-1] if DYNAMIC_SEQ_LEN else MAX_LEN,\n",
    "#                                                         ()),\n",
    "#                                          drop_remainder=DROP_REMAINDER)\n",
    "# batched_valid_ds = valid_ds.padded_batch(batch_size=BATCH_SIZE,\n",
    "#                                          padded_shapes=([-1] if DYNAMIC_SEQ_LEN else MAX_LEN,\n",
    "#                                                         ()),\n",
    "#                                          drop_remainder=DROP_REMAINDER)\n",
    "# test_ds = tf.data.Dataset.from_generator(data_gen,\n",
    "#                                          output_types=(tf.int32, tf.int32),\n",
    "#                                          output_shapes=(tf.TensorShape([None]),\n",
    "#                                                         tf.TensorShape([])),\n",
    "#                                          args=(False,))\n",
    "# batched_test_ds = test_ds.padded_batch(batch_size=BATCH_SIZE,\n",
    "#                                        padded_shapes=([-1] if DYNAMIC_SEQ_LEN else MAX_LEN,\n",
    "#                                                       ()),\n",
    "#                                        drop_remainder=DROP_REMAINDER)"
   ]
  },
  {
   "cell_type": "markdown",
   "metadata": {
    "pycharm": {
     "name": "#%% md\n"
    }
   },
   "source": [
    "# tf.keras.Model construction and compilation for evaluation"
   ]
  },
  {
   "cell_type": "code",
   "execution_count": 21,
   "metadata": {},
   "outputs": [
    {
     "name": "stderr",
     "output_type": "stream",
     "text": [
      "WARNING: Logging before flag parsing goes to stderr.\n",
      "W0621 16:10:35.170635 139696497428288 deprecation_wrapper.py:119] From /home/nab/PycharmProjects/work/bert/bert_dp/embeddings.py:63: The name tf.keras.initializers.TruncatedNormal is deprecated. Please use tf.compat.v1.keras.initializers.TruncatedNormal instead.\n",
      "\n"
     ]
    }
   ],
   "source": [
    "try:\n",
    "    del paraphrase_detector\n",
    "    tf.keras.backend.clear_session()\n",
    "    print('Session cleared')\n",
    "except NameError:\n",
    "    pass\n",
    "paraphrase_detector = tf.keras.Sequential([bert.BERT(name='bert'),\n",
    "                                           tf.keras.layers.Dropout(rate=0.5),\n",
    "                                           tf.keras.layers.Dense(1)])"
   ]
  },
  {
   "cell_type": "code",
   "execution_count": 22,
   "metadata": {},
   "outputs": [
    {
     "name": "stdout",
     "output_type": "stream",
     "text": [
      "Model constructed using .build() method\n"
     ]
    }
   ],
   "source": [
    "# # some data to pass through model in order to construct it\n",
    "try:\n",
    "    for s in batched_train_ds:\n",
    "        r = paraphrase_detector(s[0])\n",
    "        print('Model constructed by means of passing one batch from tf.data')\n",
    "        break\n",
    "except NameError:\n",
    "    paraphrase_detector.build(input_shape=(BATCH_SIZE, None if DYNAMIC_SEQ_LEN else MAX_LEN))\n",
    "    print('Model constructed using .build() method')\n",
    "    r1 = paraphrase_detector.predict(x_train[:BATCH_SIZE])"
   ]
  },
  {
   "cell_type": "code",
   "execution_count": 23,
   "metadata": {},
   "outputs": [
    {
     "name": "stderr",
     "output_type": "stream",
     "text": [
      "W0621 16:10:55.830227 139696497428288 deprecation.py:506] From /home/nab/PycharmProjects/work/venv/lib/python3.6/site-packages/tensorflow/python/util/deprecation.py:507: calling count_nonzero (from tensorflow.python.ops.math_ops) with axis is deprecated and will be removed in a future version.\n",
      "Instructions for updating:\n",
      "reduction_indices is deprecated, use axis instead\n"
     ]
    }
   ],
   "source": [
    "NUM_EPOCHS = 5\n",
    "# VAL_EVERY_N_BATCHES = 52  # ~50, but better suited for paraphraser dataset\n",
    "# TRAIN_STEPS_PER_EPOCH = NUM_TRAIN_SAMPLES // BATCH_SIZE\n",
    "# VALIDATION_STEPS = 512 // BATCH_SIZE  # calculated by hand for now (~546 samples with droppping remainder)\n",
    "LEARNING_RATE = 2e-05\n",
    "# learning_rate = tf.keras.optimizers.schedules.PolynomialDecay(initial_learning_rate=LEARNING_RATE,\n",
    "#                                                               # n. of batches per epoch * ~NUM_EPOCHS for convergence \n",
    "#                                                               decay_steps=TRAIN_STEPS_PER_EPOCH * NUM_EPOCHS,\n",
    "#                                                               end_learning_rate=1e-06)\n",
    "# from bert_dp.weight_decay_optimizers import AdamW\n",
    "paraphrase_detector.compile(#optimizer=AdamW(weight_decay=0.01,\n",
    "#                                             learning_rate=LEARNING_RATE,\n",
    "#                                             epsilon=1e-6),  # as in bert_dp\n",
    "                            optimizer=tf.keras.optimizers.Adam(learning_rate=LEARNING_RATE,\n",
    "                                                               epsilon=1e-6),\n",
    "                            loss=tf.keras.losses.BinaryCrossentropy(from_logits=False),\n",
    "                            metrics=[tf.keras.metrics.BinaryAccuracy(),\n",
    "                                     F1Score(num_classes=2, average='micro')\n",
    "                                    ])"
   ]
  },
  {
   "cell_type": "code",
   "execution_count": 24,
   "metadata": {},
   "outputs": [
    {
     "name": "stdout",
     "output_type": "stream",
     "text": [
      "1899/1899 [==============================] - 15s 8ms/sample - loss: 6.1007 - binary_accuracy: 0.5993 - f1_score: 0.6089\n"
     ]
    },
    {
     "data": {
      "text/plain": [
       "[6.100684211654623, 0.5992628, 0.6088817]"
      ]
     },
     "execution_count": 24,
     "metadata": {},
     "output_type": "execute_result"
    }
   ],
   "source": [
    "# baseline to ensure something is learning\n",
    "# paraphrase_detector.evaluate(batched_test_ds)\n",
    "paraphrase_detector.evaluate(x=x_test, y=y_test, batch_size=BATCH_SIZE)"
   ]
  },
  {
   "cell_type": "code",
   "execution_count": 25,
   "metadata": {
    "pycharm": {
     "name": "#%%\n"
    }
   },
   "outputs": [
    {
     "name": "stderr",
     "output_type": "stream",
     "text": [
      "W0621 16:11:21.589987 139696497428288 saver.py:795] Saver is deprecated, please switch to tf.train.Checkpoint or tf.keras.Model.save_weights for training checkpoints. When executing eagerly variables do not necessarily have unique names, and so the variable.name-based lookups Saver performs are error-prone.\n",
      "W0621 16:11:21.591475 139696497428288 deprecation.py:323] From /home/nab/PycharmProjects/work/venv/lib/python3.6/site-packages/tensorflow/python/training/saver.py:1276: checkpoint_exists (from tensorflow.python.training.checkpoint_management) is deprecated and will be removed in a future version.\n",
      "Instructions for updating:\n",
      "Use standard file APIs to check for files with this prefix.\n"
     ]
    }
   ],
   "source": [
    "paraphraser_checkpoint_path = 'models/multi_cased_L-12_H-768_A-12/bert_model.ckpt'\n",
    "paraphraser_saver = tf.compat.v1.train.Saver(var_list=paraphrase_detector.variables[:-2])  # loading without dense head\n",
    "paraphraser_saver.restore(sess=None if is_eager else tf.keras.backend.get_session(),\n",
    "                          save_path=paraphraser_checkpoint_path)"
   ]
  },
  {
   "cell_type": "code",
   "execution_count": 26,
   "metadata": {},
   "outputs": [
    {
     "name": "stdout",
     "output_type": "stream",
     "text": [
      "Outputs are changed\n"
     ]
    }
   ],
   "source": [
    "r2 = paraphrase_detector.predict(x_train[:BATCH_SIZE])\n",
    "try:\n",
    "    np.testing.assert_allclose(r1, r2)\n",
    "except AssertionError:\n",
    "    print('Outputs are changed')"
   ]
  },
  {
   "cell_type": "code",
   "execution_count": 27,
   "metadata": {},
   "outputs": [
    {
     "name": "stdout",
     "output_type": "stream",
     "text": [
      "1899/1899 [==============================] - 13s 7ms/sample - loss: 9.2437 - binary_accuracy: 0.4007 - f1_score: 0.5485\n"
     ]
    },
    {
     "data": {
      "text/plain": [
       "[9.243731933621874, 0.40073723, 0.54849166]"
      ]
     },
     "execution_count": 27,
     "metadata": {},
     "output_type": "execute_result"
    }
   ],
   "source": [
    "# baseline to ensure something is learning\n",
    "# paraphrase_detector.evaluate(batched_test_ds)\n",
    "paraphrase_detector.evaluate(x=x_test, y=y_test, batch_size=BATCH_SIZE)"
   ]
  },
  {
   "cell_type": "markdown",
   "metadata": {
    "pycharm": {
     "name": "#%% md\n"
    }
   },
   "source": [
    "# Training"
   ]
  },
  {
   "cell_type": "code",
   "execution_count": 28,
   "metadata": {},
   "outputs": [
    {
     "name": "stdout",
     "output_type": "stream",
     "text": [
      "Train on 6690 samples, validate on 512 samples\n"
     ]
    },
    {
     "name": "stderr",
     "output_type": "stream",
     "text": [
      "W0621 16:11:55.465690 139696497428288 deprecation.py:323] From /home/nab/PycharmProjects/work/venv/lib/python3.6/site-packages/tensorflow/python/ops/math_grad.py:1250: add_dispatch_support.<locals>.wrapper (from tensorflow.python.ops.array_ops) is deprecated and will be removed in a future version.\n",
      "Instructions for updating:\n",
      "Use tf.where in 2.0, which has the same broadcast rule as np.where\n"
     ]
    },
    {
     "name": "stdout",
     "output_type": "stream",
     "text": [
      "Epoch 1/5\n",
      "6690/6690 [==============================] - 250s 37ms/sample - loss: 1.3651 - binary_accuracy: 0.7197 - f1_score: 0.7229 - val_loss: 0.5434 - val_binary_accuracy: 0.6973 - val_f1_score: 0.7646\n",
      "Epoch 2/5\n",
      "6690/6690 [==============================] - 236s 35ms/sample - loss: 0.9406 - binary_accuracy: 0.7299 - f1_score: 0.7500 - val_loss: 0.5291 - val_binary_accuracy: 0.8066 - val_f1_score: 0.8084\n",
      "Epoch 3/5\n",
      "6690/6690 [==============================] - 237s 35ms/sample - loss: 0.8200 - binary_accuracy: 0.7937 - f1_score: 0.7297 - val_loss: 0.4448 - val_binary_accuracy: 0.7852 - val_f1_score: 0.8194\n",
      "Epoch 4/5\n",
      "6690/6690 [==============================] - 237s 35ms/sample - loss: 5.5630 - binary_accuracy: 0.5945 - f1_score: 0.6174 - val_loss: 9.0983 - val_binary_accuracy: 0.4102 - val_f1_score: 0.5412\n",
      "Epoch 5/5\n",
      "6690/6690 [==============================] - 238s 36ms/sample - loss: 9.9766 - binary_accuracy: 0.3532 - f1_score: 0.5640 - val_loss: 9.0983 - val_binary_accuracy: 0.4102 - val_f1_score: 0.5412\n"
     ]
    }
   ],
   "source": [
    "history = paraphrase_detector.fit(x=x_train,\n",
    "                                  y=y_train,\n",
    "                                  epochs=NUM_EPOCHS,\n",
    "                                  callbacks=[tf.keras.callbacks.TensorBoard(batch_size=BATCH_SIZE),\n",
    "                                             tf.keras.callbacks.ReduceLROnPlateau(monitor='val_f1_score',\n",
    "                                                                                  factor=0.5,\n",
    "                                                                                  patience=3,\n",
    "                                                                                  min_lr=1e-06)],\n",
    "                                  validation_split=0.071)  # ~512 samples\n",
    "# history = paraphrase_detector.fit(x=batched_train_ds.repeat(),\n",
    "#                                   y=None,\n",
    "#                                   epochs=NUM_EPOCHS * TRAIN_STEPS_PER_EPOCH // VAL_EVERY_N_BATCHES,  # workaround for more frequent evaluation\n",
    "#                                   callbacks=[tf.keras.callbacks.TensorBoard(batch_size=BATCH_SIZE),\n",
    "#                                              tf.keras.callbacks.ReduceLROnPlateau(monitor='val_sparse_binary_f1_score',\n",
    "#                                                                                   factor=0.5,\n",
    "#                                                                                   patience=3,\n",
    "#                                                                                   min_lr=1e-06)],\n",
    "#                                   validation_data=batched_valid_ds,\n",
    "#                                   steps_per_epoch=VAL_EVERY_N_BATCHES,\n",
    "#                                   validation_steps=VALIDATION_STEPS)"
   ]
  },
  {
   "cell_type": "code",
   "execution_count": 29,
   "metadata": {},
   "outputs": [
    {
     "name": "stdout",
     "output_type": "stream",
     "text": [
      "1899/1899 [==============================] - 13s 7ms/sample - loss: 9.2436 - binary_accuracy: 0.4007 - f1_score: 0.5451\n"
     ]
    }
   ],
   "source": [
    "# paraphrase_detector.evaluate(batched_test_ds)\n",
    "metrics = paraphrase_detector.evaluate(x=x_test, y=y_test, batch_size=BATCH_SIZE)"
   ]
  },
  {
   "cell_type": "code",
   "execution_count": null,
   "metadata": {},
   "outputs": [],
   "source": []
  }
 ],
 "metadata": {
  "kernelspec": {
   "display_name": "Python 3",
   "language": "python",
   "name": "python3"
  },
  "language_info": {
   "codemirror_mode": {
    "name": "ipython",
    "version": 3
   },
   "file_extension": ".py",
   "mimetype": "text/x-python",
   "name": "python",
   "nbconvert_exporter": "python",
   "pygments_lexer": "ipython3",
   "version": "3.6.3"
  },
  "pycharm": {
   "stem_cell": {
    "cell_type": "raw",
    "metadata": {
     "collapsed": false
    },
    "source": []
   }
  }
 },
 "nbformat": 4,
 "nbformat_minor": 2
}
