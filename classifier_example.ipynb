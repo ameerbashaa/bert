{
 "cells": [
  {
   "cell_type": "code",
   "execution_count": 1,
   "metadata": {
    "pycharm": {
     "is_executing": false
    }
   },
   "outputs": [],
   "source": [
    "#!pip install -q git+https://github.com/deepmipt/bert.git@feat/keras1 tensorflow-gpu==1.14.0rc0 deeppavlov"
   ]
  },
  {
   "cell_type": "code",
   "execution_count": 2,
   "metadata": {
    "pycharm": {
     "is_executing": false
    }
   },
   "outputs": [],
   "source": [
    "import tensorflow as tf"
   ]
  },
  {
   "cell_type": "code",
   "execution_count": 3,
   "metadata": {
    "pycharm": {
     "is_executing": false,
     "metadata": false,
     "name": "#%%\n"
    }
   },
   "outputs": [
    {
     "data": {
      "text/plain": [
       "'1.14.0-rc0'"
      ]
     },
     "execution_count": 3,
     "metadata": {},
     "output_type": "execute_result"
    }
   ],
   "source": [
    "tf.__version__"
   ]
  },
  {
   "cell_type": "code",
   "execution_count": 4,
   "metadata": {},
   "outputs": [],
   "source": [
    "# tf.compat.v1.enable_eager_execution()"
   ]
  },
  {
   "cell_type": "code",
   "execution_count": 5,
   "metadata": {},
   "outputs": [
    {
     "data": {
      "text/plain": [
       "False"
      ]
     },
     "execution_count": 5,
     "metadata": {},
     "output_type": "execute_result"
    }
   ],
   "source": [
    "tf.compat.v1.executing_eagerly()"
   ]
  },
  {
   "cell_type": "markdown",
   "metadata": {},
   "source": [
    "# Paraphrase data"
   ]
  },
  {
   "cell_type": "code",
   "execution_count": 6,
   "metadata": {
    "pycharm": {
     "name": "#%%\n"
    }
   },
   "outputs": [],
   "source": [
    "BATCH_SIZE = 64  # both for training and evaluation for now\n",
    "MAX_LEN = 52  # the longest sequence in the paraphrase dataset, workaroud that make shape of all batch tensors equal"
   ]
  },
  {
   "cell_type": "code",
   "execution_count": 7,
   "metadata": {
    "pycharm": {
     "name": "#%%\n"
    }
   },
   "outputs": [
    {
     "data": {
      "text/plain": [
       "'./dataset/paraphraser.zip'"
      ]
     },
     "execution_count": 7,
     "metadata": {},
     "output_type": "execute_result"
    }
   ],
   "source": [
    "tf.keras.utils.get_file(\n",
    "    fname='paraphraser.zip',\n",
    "    origin='http://files.deeppavlov.ai/datasets/paraphraser.zip',\n",
    "    cache_subdir='dataset',\n",
    "    extract=True,\n",
    "    cache_dir='.'\n",
    ")"
   ]
  },
  {
   "cell_type": "code",
   "execution_count": 8,
   "metadata": {
    "pycharm": {
     "name": "#%%\n"
    }
   },
   "outputs": [
    {
     "data": {
      "text/plain": [
       "'./dataset/paraphraser_gold.zip'"
      ]
     },
     "execution_count": 8,
     "metadata": {},
     "output_type": "execute_result"
    }
   ],
   "source": [
    "tf.keras.utils.get_file(\n",
    "    fname='paraphraser_gold.zip',\n",
    "    origin='http://files.deeppavlov.ai/datasets/paraphraser_gold.zip',\n",
    "    cache_subdir='dataset',\n",
    "    extract=True,\n",
    "    archive_format='zip',\n",
    "    cache_dir='.'\n",
    ")"
   ]
  },
  {
   "cell_type": "code",
   "execution_count": 9,
   "metadata": {
    "pycharm": {
     "name": "#%%\n"
    }
   },
   "outputs": [
    {
     "data": {
      "text/plain": [
       "'./models/rubert_cased_L-12_H-768_A-12_v1.tar.gz'"
      ]
     },
     "execution_count": 9,
     "metadata": {},
     "output_type": "execute_result"
    }
   ],
   "source": [
    "tf.keras.utils.get_file(\n",
    "    fname='rubert_cased_L-12_H-768_A-12_v1_converted.zip',\n",
    "    origin='http://files.deeppavlov.ai/deeppavlov_data/bert/rubert_cased_L-12_H-768_A-12_v1_converted.zip',\n",
    "    cache_subdir='models',\n",
    "    extract=True,\n",
    "    cache_dir='.'\n",
    ")"
   ]
  },
  {
   "cell_type": "code",
   "execution_count": 9,
   "metadata": {
    "pycharm": {
     "name": "#%%\n"
    }
   },
   "outputs": [],
   "source": [
    "def _truncate_seq_pair(tokens_a, tokens_b, max_length):\n",
    "    \"\"\"Truncates a sequence pair in place to the maximum length.\"\"\"\n",
    "\n",
    "    # This is a simple heuristic which will always truncate the longer sequence\n",
    "    # one token at a time. This makes more sense than truncating an equal percent\n",
    "    # of tokens from each, since if one sequence is very short then each token\n",
    "    # that's truncated likely contains more information than a longer sequence.\n",
    "    while True:\n",
    "        total_length = len(tokens_a) + len(tokens_b)\n",
    "        if total_length <= max_length:\n",
    "            break\n",
    "        if len(tokens_a) > len(tokens_b):\n",
    "            tokens_a.pop()\n",
    "        else:\n",
    "            tokens_b.pop()"
   ]
  },
  {
   "cell_type": "code",
   "execution_count": 10,
   "metadata": {
    "pycharm": {
     "name": "#%%\n"
    }
   },
   "outputs": [],
   "source": [
    "def data_gen(train_data=True):\n",
    "    from deeppavlov.dataset_readers.paraphraser_reader import ParaphraserReader\n",
    "    from bert_dp.tokenization import FullTokenizer\n",
    "    ds = ParaphraserReader().read(data_path='dataset', do_lower_case=False)\n",
    "    tokenizer = FullTokenizer(vocab_file='models/rubert_cased_L-12_H-768_A-12_v1/vocab.txt', do_lower_case=False)\n",
    "    tds = ds['train'] if train_data else ds['test']\n",
    "    for pair, label in tds:\n",
    "        t1 = tokenizer.tokenize(pair[0])\n",
    "        t2 = tokenizer.tokenize(pair[1])\n",
    "        _truncate_seq_pair(t1, t2, 512)\n",
    "        s = ['[CLS]'] + t1 + ['[SEP]'] + t2 + ['[SEP]']\n",
    "        yield tokenizer.convert_tokens_to_ids(s), label  # tf.one_hot(label, depth=2, dtype=tf.int32)"
   ]
  },
  {
   "cell_type": "code",
   "execution_count": 11,
   "metadata": {
    "pycharm": {
     "name": "#%%\n"
    }
   },
   "outputs": [
    {
     "name": "stderr",
     "output_type": "stream",
     "text": [
      "WARNING: Logging before flag parsing goes to stderr.\n",
      "W0529 17:31:43.914082 139898945533760 deprecation.py:323] From /home/nab/PycharmProjects/work/venv/lib/python3.6/site-packages/tensorflow/python/data/ops/dataset_ops.py:494: py_func (from tensorflow.python.ops.script_ops) is deprecated and will be removed in a future version.\n",
      "Instructions for updating:\n",
      "tf.py_func is deprecated in TF V2. Instead, there are two\n",
      "    options available in V2.\n",
      "    - tf.py_function takes a python function which manipulates tf eager\n",
      "    tensors instead of numpy arrays. It's easy to convert a tf eager tensor to\n",
      "    an ndarray (just call tensor.numpy()) but having access to eager tensors\n",
      "    means `tf.py_function`s can use accelerators such as GPUs as well as\n",
      "    being differentiable using a gradient tape.\n",
      "    - tf.numpy_function maintains the semantics of the deprecated tf.py_func\n",
      "    (it is not differentiable, and manipulates numpy arrays). It drops the\n",
      "    stateful argument making all functions stateful.\n",
      "    \n"
     ]
    }
   ],
   "source": [
    "train_ds = tf.data.Dataset.from_generator(data_gen,\n",
    "                                          output_types=(tf.int32, tf.int32),\n",
    "                                          output_shapes=(tf.TensorShape([None]), tf.TensorShape([])))\n"
   ]
  },
  {
   "cell_type": "code",
   "execution_count": 12,
   "metadata": {
    "pycharm": {
     "name": "#%%\n"
    }
   },
   "outputs": [],
   "source": [
    "batched_train_ds = train_ds.padded_batch(batch_size=BATCH_SIZE,\n",
    "                                         padded_shapes=(MAX_LEN,  # tf.constant([-1], dtype=tf.int64),\n",
    "                                                        ()),  # 2),\n",
    "                                         drop_remainder=True)"
   ]
  },
  {
   "cell_type": "code",
   "execution_count": 13,
   "metadata": {
    "pycharm": {
     "name": "#%%\n"
    }
   },
   "outputs": [],
   "source": [
    "test_ds = tf.data.Dataset.from_generator(data_gen,\n",
    "                                         output_types=(tf.int32, tf.int32),\n",
    "                                         output_shapes=(tf.TensorShape([None]), tf.TensorShape([])),\n",
    "                                         args=(False,))"
   ]
  },
  {
   "cell_type": "code",
   "execution_count": 15,
   "metadata": {
    "pycharm": {
     "name": "#%%\n"
    }
   },
   "outputs": [],
   "source": [
    "batched_test_ds = test_ds.padded_batch(batch_size=BATCH_SIZE,\n",
    "                                       padded_shapes=(MAX_LEN,  # tf.constant([-1], dtype=tf.int64),\n",
    "                                                      ()),  # 2),\n",
    "                                       drop_remainder=True)"
   ]
  },
  {
   "cell_type": "markdown",
   "metadata": {},
   "source": [
    "# Model construction"
   ]
  },
  {
   "cell_type": "code",
   "execution_count": 16,
   "metadata": {
    "pycharm": {
     "name": "#%%\n"
    }
   },
   "outputs": [],
   "source": [
    "from bert_dp import bert"
   ]
  },
  {
   "cell_type": "code",
   "execution_count": 17,
   "metadata": {},
   "outputs": [
    {
     "name": "stderr",
     "output_type": "stream",
     "text": [
      "W0529 17:32:09.202016 139898945533760 deprecation_wrapper.py:119] From /home/nab/PycharmProjects/work/bert/bert_dp/embeddings.py:29: The name tf.keras.initializers.TruncatedNormal is deprecated. Please use tf.compat.v1.keras.initializers.TruncatedNormal instead.\n",
      "\n",
      "W0529 17:32:09.203315 139898945533760 deprecation.py:506] From /home/nab/PycharmProjects/work/venv/lib/python3.6/site-packages/tensorflow/python/keras/initializers.py:94: calling TruncatedNormal.__init__ (from tensorflow.python.ops.init_ops) with dtype is deprecated and will be removed in a future version.\n",
      "Instructions for updating:\n",
      "Call initializer instance with the dtype argument instead of passing it to the constructor\n",
      "W0529 17:32:09.214181 139898945533760 deprecation.py:506] From /home/nab/PycharmProjects/work/venv/lib/python3.6/site-packages/tensorflow/python/ops/init_ops.py:1251: calling VarianceScaling.__init__ (from tensorflow.python.ops.init_ops) with dtype is deprecated and will be removed in a future version.\n",
      "Instructions for updating:\n",
      "Call initializer instance with the dtype argument instead of passing it to the constructor\n"
     ]
    },
    {
     "data": {
      "text/plain": [
       "<tf.Tensor 'bert/pooler/dense/Tanh:0' shape=(64, 768) dtype=float32>"
      ]
     },
     "execution_count": 17,
     "metadata": {},
     "output_type": "execute_result"
    }
   ],
   "source": [
    "# some data to pass through model in order to construct it\n",
    "toy_inputs = tf.constant([[1, 3, 2, 5] * (MAX_LEN // 4),\n",
    "                      [1, 2, 3] * (MAX_LEN // 4) + [0] *(MAX_LEN // 4)] * (BATCH_SIZE // 2))\n",
    "bert_layer = bert.BERT(name='bert')\n",
    "bert_layer(toy_inputs)"
   ]
  },
  {
   "cell_type": "markdown",
   "metadata": {},
   "source": [
    "# Training"
   ]
  },
  {
   "cell_type": "code",
   "execution_count": 18,
   "metadata": {},
   "outputs": [],
   "source": [
    "paraphrase_detector = tf.keras.Sequential([bert_layer, tf.keras.layers.Dense(1, activation='sigmoid')])"
   ]
  },
  {
   "cell_type": "code",
   "execution_count": 19,
   "metadata": {},
   "outputs": [],
   "source": [
    "from bert_dp.weight_decay_optimizers import AdamW"
   ]
  },
  {
   "cell_type": "code",
   "execution_count": 20,
   "metadata": {},
   "outputs": [],
   "source": [
    "NUM_EPOCHS = 3"
   ]
  },
  {
   "cell_type": "code",
   "execution_count": 21,
   "metadata": {},
   "outputs": [],
   "source": [
    "STEPS_PER_EPOCH = 112  # calculated by hand for now"
   ]
  },
  {
   "cell_type": "code",
   "execution_count": 22,
   "metadata": {},
   "outputs": [],
   "source": [
    "learning_rate = tf.keras.optimizers.schedules.PolynomialDecay(initial_learning_rate=2e-05,\n",
    "                                                              # n. of batches per epoch * ~NUM_EPOCHS for convergence \n",
    "                                                              decay_steps=STEPS_PER_EPOCH * NUM_EPOCHS,\n",
    "                                                              end_learning_rate=1e-06)"
   ]
  },
  {
   "cell_type": "code",
   "execution_count": 23,
   "metadata": {},
   "outputs": [],
   "source": [
    "paraphrase_detector.compile(optimizer=AdamW(weight_decay=0.01,\n",
    "                                            learning_rate=learning_rate,\n",
    "                                            epsilon=1e-6),  # as in bert_dp\n",
    "                            loss=tf.keras.losses.BinaryCrossentropy(from_logits=False),\n",
    "                            metrics=[tf.keras.metrics.BinaryAccuracy(),\n",
    "#                                      tf.keras.metrics.Precision(class_id=1),\n",
    "#                                      tf.keras.metrics.Recall(class_id=1),\n",
    "                                     tf.keras.metrics.Precision(),\n",
    "                                     tf.keras.metrics.Recall()\n",
    "                                    ])"
   ]
  },
  {
   "cell_type": "code",
   "execution_count": 24,
   "metadata": {},
   "outputs": [
    {
     "name": "stderr",
     "output_type": "stream",
     "text": [
      "W0529 17:33:17.640841 139898945533760 deprecation.py:323] From /home/nab/PycharmProjects/work/venv/lib/python3.6/site-packages/tensorflow/python/ops/nn_impl.py:180: add_dispatch_support.<locals>.wrapper (from tensorflow.python.ops.array_ops) is deprecated and will be removed in a future version.\n",
      "Instructions for updating:\n",
      "Use tf.where in 2.0, which has the same broadcast rule as np.where\n",
      "W0529 17:33:19.974374 139893365618432 deprecation_wrapper.py:119] From /home/nab/PycharmProjects/work/bert/bert_dp/tokenization.py:125: The name tf.gfile.GFile is deprecated. Please use tf.io.gfile.GFile instead.\n",
      "\n"
     ]
    },
    {
     "name": "stdout",
     "output_type": "stream",
     "text": [
      "     29/Unknown - 7s 226ms/step - loss: 0.7782 - binary_accuracy: 0.4273 - precision: 0.6497 - recall: 0.0919"
     ]
    },
    {
     "data": {
      "text/plain": [
       "[0.7781961272502768, 0.42726293, 0.6496815, 0.09189189]"
      ]
     },
     "execution_count": 24,
     "metadata": {},
     "output_type": "execute_result"
    }
   ],
   "source": [
    "paraphrase_detector.evaluate(batched_test_ds)"
   ]
  },
  {
   "cell_type": "code",
   "execution_count": 25,
   "metadata": {},
   "outputs": [
    {
     "data": {
      "text/plain": [
       "<tensorflow.python.training.tracking.util.CheckpointLoadStatus at 0x7f3b5cc380f0>"
      ]
     },
     "execution_count": 25,
     "metadata": {},
     "output_type": "execute_result"
    }
   ],
   "source": [
    "bert_layer.load_weights('models/rubert_cased_L-12_H-768_A-12_v1_converted/bert_model').assert_consumed()"
   ]
  },
  {
   "cell_type": "code",
   "execution_count": 26,
   "metadata": {},
   "outputs": [
    {
     "name": "stdout",
     "output_type": "stream",
     "text": [
      "     29/Unknown - 6s 219ms/step - loss: 0.6966 - binary_accuracy: 0.5296 - precision: 0.6193 - recall: 0.5541"
     ]
    },
    {
     "data": {
      "text/plain": [
       "[0.6966115174622372, 0.52963364, 0.61933535, 0.5540541]"
      ]
     },
     "execution_count": 26,
     "metadata": {},
     "output_type": "execute_result"
    }
   ],
   "source": [
    "paraphrase_detector.evaluate(batched_test_ds)"
   ]
  },
  {
   "cell_type": "code",
   "execution_count": 27,
   "metadata": {},
   "outputs": [
    {
     "name": "stderr",
     "output_type": "stream",
     "text": [
      "W0529 17:33:52.136372 139898945533760 deprecation.py:323] From /home/nab/PycharmProjects/work/venv/lib/python3.6/site-packages/tensorflow/python/keras/optimizer_v2/learning_rate_schedule.py:409: div (from tensorflow.python.ops.math_ops) is deprecated and will be removed in a future version.\n",
      "Instructions for updating:\n",
      "Deprecated in favor of operator or tf.math.divide.\n"
     ]
    },
    {
     "name": "stdout",
     "output_type": "stream",
     "text": [
      "Epoch 1/3\n",
      "112/112 [==============================] - 52s 461ms/step - loss: 0.6914 - binary_accuracy: 0.6271 - precision: 0.6412 - recall: 0.9569\n",
      "Epoch 2/3\n",
      "112/112 [==============================] - 46s 413ms/step - loss: 0.6752 - binary_accuracy: 0.6445 - precision: 0.6445 - recall: 1.0000\n",
      "Epoch 3/3\n",
      "112/112 [==============================] - 46s 415ms/step - loss: 0.6916 - binary_accuracy: 0.6445 - precision: 0.6445 - recall: 1.0000\n"
     ]
    }
   ],
   "source": [
    "history = paraphrase_detector.fit(batched_train_ds.repeat(NUM_EPOCHS),\n",
    "                                  epochs=NUM_EPOCHS,\n",
    "                                  callbacks=[tf.keras.callbacks.TensorBoard(batch_size=BATCH_SIZE)],\n",
    "#                                   validation_split=0.07,  # ~500 samples\n",
    "                                  steps_per_epoch=STEPS_PER_EPOCH) # n. of batches in batched_train_ds"
   ]
  },
  {
   "cell_type": "code",
   "execution_count": 28,
   "metadata": {},
   "outputs": [
    {
     "data": {
      "text/plain": [
       "'f1 = 0.7838479809976246'"
      ]
     },
     "execution_count": 28,
     "metadata": {},
     "output_type": "execute_result"
    }
   ],
   "source": [
    "'f1 = ' + str((2 * history.history['precision'][-1] * history.history['recall'][-1]) / \n",
    "              (history.history['precision'][-1] + history.history['recall'][-1]))"
   ]
  },
  {
   "cell_type": "code",
   "execution_count": 29,
   "metadata": {
    "pycharm": {
     "name": "#%%\n"
    }
   },
   "outputs": [
    {
     "name": "stdout",
     "output_type": "stream",
     "text": [
      "     29/Unknown - 7s 235ms/step - loss: 0.6930 - binary_accuracy: 0.5981 - precision: 0.5981 - recall: 1.0000"
     ]
    }
   ],
   "source": [
    "eval_metrics = paraphrase_detector.evaluate(batched_test_ds)"
   ]
  },
  {
   "cell_type": "code",
   "execution_count": 30,
   "metadata": {},
   "outputs": [
    {
     "data": {
      "text/plain": [
       "'f1 = 0.7484828244402932'"
      ]
     },
     "execution_count": 30,
     "metadata": {},
     "output_type": "execute_result"
    }
   ],
   "source": [
    "'f1 = ' + str((2 * eval_metrics[2] * eval_metrics[3]) / \n",
    "              (eval_metrics[2] + eval_metrics[3]))"
   ]
  },
  {
   "cell_type": "code",
   "execution_count": null,
   "metadata": {},
   "outputs": [],
   "source": []
  }
 ],
 "metadata": {
  "kernelspec": {
   "display_name": "Python 3",
   "language": "python",
   "name": "python3"
  },
  "language_info": {
   "codemirror_mode": {
    "name": "ipython",
    "version": 3
   },
   "file_extension": ".py",
   "mimetype": "text/x-python",
   "name": "python",
   "nbconvert_exporter": "python",
   "pygments_lexer": "ipython3",
   "version": "3.6.3"
  },
  "pycharm": {
   "stem_cell": {
    "cell_type": "raw",
    "metadata": {
     "collapsed": false
    },
    "source": []
   }
  }
 },
 "nbformat": 4,
 "nbformat_minor": 1
}
