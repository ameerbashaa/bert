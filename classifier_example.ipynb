{
 "cells": [
  {
   "cell_type": "code",
   "execution_count": 1,
   "metadata": {
    "pycharm": {
     "is_executing": false
    }
   },
   "outputs": [],
   "source": [
    "#!pip install -q git+https://github.com/deepmipt/bert.git@feat/keras1 tensorflow-gpu==1.14.0rc1 deeppavlov"
   ]
  },
  {
   "cell_type": "code",
   "execution_count": 2,
   "metadata": {},
   "outputs": [
    {
     "name": "stdout",
     "output_type": "stream",
     "text": [
      "1.14.0-rc1\n"
     ]
    },
    {
     "data": {
      "text/plain": [
       "False"
      ]
     },
     "execution_count": 2,
     "metadata": {},
     "output_type": "execute_result"
    }
   ],
   "source": [
    "import tensorflow as tf\n",
    "print(tf.__version__)\n",
    "# tf.compat.v1.enable_eager_execution()\n",
    "tf.compat.v1.executing_eagerly()"
   ]
  },
  {
   "cell_type": "markdown",
   "metadata": {},
   "source": [
    "# Paraphrases data"
   ]
  },
  {
   "cell_type": "code",
   "execution_count": 3,
   "metadata": {
    "pycharm": {
     "name": "#%%\n"
    }
   },
   "outputs": [],
   "source": [
    "BATCH_SIZE = 64  # both for training and evaluation for now\n",
    "MAX_LEN = 52  # the longest sequence in the paraphrase dataset, workaroud that make shape of all batch tensors equal\n",
    "NUM_TRAIN_SAMPLES = 6656  # total of 7202 samples minus ~500 (actually 546) samples for validation\n",
    "DYNAMIC_SEQ_LEN = True  # whether to pad each batch to the maximum len in the batch, or in the whole dataset\n",
    "NUM_CLASSES = 2  # binary classification as multiclass\n",
    "DROP_REMAINDER = True # whether to for batches of fixed size"
   ]
  },
  {
   "cell_type": "code",
   "execution_count": 4,
   "metadata": {
    "pycharm": {
     "name": "#%%\n"
    }
   },
   "outputs": [
    {
     "data": {
      "text/plain": [
       "'./models/rubert_cased_L-12_H-768_A-12_v1_converted.zip'"
      ]
     },
     "execution_count": 4,
     "metadata": {},
     "output_type": "execute_result"
    }
   ],
   "source": [
    "tf.keras.utils.get_file(\n",
    "    fname='paraphraser.zip',\n",
    "    origin='http://files.deeppavlov.ai/datasets/paraphraser.zip',\n",
    "    cache_subdir='dataset',\n",
    "    extract=True,\n",
    "    cache_dir='.'\n",
    ")\n",
    "tf.keras.utils.get_file(\n",
    "    fname='paraphraser_gold.zip',\n",
    "    origin='http://files.deeppavlov.ai/datasets/paraphraser_gold.zip',\n",
    "    cache_subdir='dataset',\n",
    "    extract=True,\n",
    "    archive_format='zip',\n",
    "    cache_dir='.'\n",
    ")\n",
    "tf.keras.utils.get_file(\n",
    "    fname='rubert_cased_L-12_H-768_A-12_v1_converted.zip',\n",
    "    origin='http://files.deeppavlov.ai/deeppavlov_data/bert/rubert_cased_L-12_H-768_A-12_v1_converted.zip',\n",
    "    cache_subdir='models',\n",
    "    extract=True,\n",
    "    cache_dir='.'\n",
    ")"
   ]
  },
  {
   "cell_type": "code",
   "execution_count": 5,
   "metadata": {
    "pycharm": {
     "name": "#%%\n"
    }
   },
   "outputs": [],
   "source": [
    "def _truncate_seq_pair(tokens_a, tokens_b, max_length):\n",
    "    \"\"\"Truncates a sequence pair in place to the maximum length.\"\"\"\n",
    "\n",
    "    # This is a simple heuristic which will always truncate the longer sequence\n",
    "    # one token at a time. This makes more sense than truncating an equal percent\n",
    "    # of tokens from each, since if one sequence is very short then each token\n",
    "    # that's truncated likely contains more information than a longer sequence.\n",
    "    while True:\n",
    "        total_length = len(tokens_a) + len(tokens_b)\n",
    "        if total_length <= max_length:\n",
    "            break\n",
    "        if len(tokens_a) > len(tokens_b):\n",
    "            tokens_a.pop()\n",
    "        else:\n",
    "            tokens_b.pop()\n",
    "\n",
    "\n",
    "def data_gen(train_data=True):\n",
    "    from deeppavlov.dataset_readers.paraphraser_reader import ParaphraserReader\n",
    "    from bert_dp.tokenization import FullTokenizer\n",
    "    ds = ParaphraserReader().read(data_path='dataset', do_lower_case=False)\n",
    "    tokenizer = FullTokenizer(vocab_file='models/rubert_cased_L-12_H-768_A-12_v1_converted/vocab.txt', do_lower_case=False)\n",
    "    tds = ds['train'] if train_data else ds['test']\n",
    "    for pair, label in tds:\n",
    "        t1 = tokenizer.tokenize(pair[0])\n",
    "        t2 = tokenizer.tokenize(pair[1])\n",
    "        _truncate_seq_pair(t1, t2, 512)\n",
    "        s = ['[CLS]'] + t1 + ['[SEP]'] + t2 + ['[SEP]']\n",
    "        yield tokenizer.convert_tokens_to_ids(s), label"
   ]
  },
  {
   "cell_type": "code",
   "execution_count": 6,
   "metadata": {},
   "outputs": [
    {
     "name": "stderr",
     "output_type": "stream",
     "text": [
      "WARNING: Logging before flag parsing goes to stderr.\n",
      "W0611 21:08:46.860945 140706646267712 deprecation_wrapper.py:119] From /home/nab/PycharmProjects/work/bert/bert_dp/tokenization.py:125: The name tf.gfile.GFile is deprecated. Please use tf.io.gfile.GFile instead.\n",
      "\n"
     ]
    },
    {
     "data": {
      "text/plain": [
       "(7202, 1899)"
      ]
     },
     "execution_count": 6,
     "metadata": {},
     "output_type": "execute_result"
    }
   ],
   "source": [
    "import numpy as np\n",
    "\n",
    "x_train_, y_train_, x_test_, y_test_ = [], [], [], []\n",
    "for x, y in data_gen():\n",
    "    x_train_.append(np.pad(x, pad_width=(0, MAX_LEN - len(x)), mode='constant'))\n",
    "    y_train_.append(y)\n",
    "for x, y in data_gen(train_data=False):\n",
    "    x_test_.append(np.pad(x, pad_width=(0, MAX_LEN - len(x)), mode='constant'))\n",
    "    y_test_.append(y)\n",
    "x_train = np.array(x_train_)\n",
    "y_train = np.array(y_train_)\n",
    "x_test = np.array(x_test_)\n",
    "y_test = np.array(y_test_)\n",
    "len(x_train_), len(x_test_)"
   ]
  },
  {
   "cell_type": "code",
   "execution_count": 7,
   "metadata": {},
   "outputs": [],
   "source": [
    "# train_ds_ = tf.data.Dataset.from_generator(data_gen,\n",
    "#                                            output_types=(tf.int32, tf.int32),\n",
    "#                                            output_shapes=(tf.TensorShape([None]),\n",
    "#                                                           tf.TensorShape([])))\n",
    "# train_ds = train_ds_.take(NUM_TRAIN_SAMPLES)\n",
    "# valid_ds = train_ds_.skip(NUM_TRAIN_SAMPLES)\n",
    "# batched_train_ds = train_ds.padded_batch(batch_size=BATCH_SIZE,\n",
    "#                                          padded_shapes=([-1] if DYNAMIC_SEQ_LEN else MAX_LEN,\n",
    "#                                                         ()),\n",
    "#                                          drop_remainder=DROP_REMAINDER)\n",
    "# batched_valid_ds = valid_ds.padded_batch(batch_size=BATCH_SIZE,\n",
    "#                                          padded_shapes=([-1] if DYNAMIC_SEQ_LEN else MAX_LEN,\n",
    "#                                                         ()),\n",
    "#                                          drop_remainder=DROP_REMAINDER)\n",
    "# test_ds = tf.data.Dataset.from_generator(data_gen,\n",
    "#                                          output_types=(tf.int32, tf.int32),\n",
    "#                                          output_shapes=(tf.TensorShape([None]),\n",
    "#                                                         tf.TensorShape([])),\n",
    "#                                          args=(False,))\n",
    "# batched_test_ds = test_ds.padded_batch(batch_size=BATCH_SIZE,\n",
    "#                                        padded_shapes=([-1] if DYNAMIC_SEQ_LEN else MAX_LEN,\n",
    "#                                                       ()),\n",
    "#                                        drop_remainder=DROP_REMAINDER)"
   ]
  },
  {
   "cell_type": "markdown",
   "metadata": {},
   "source": [
    "# Model construction and compilation for training"
   ]
  },
  {
   "cell_type": "code",
   "execution_count": 8,
   "metadata": {},
   "outputs": [
    {
     "name": "stderr",
     "output_type": "stream",
     "text": [
      "W0611 21:09:15.507581 140706646267712 deprecation_wrapper.py:119] From /home/nab/PycharmProjects/work/bert/bert_dp/embeddings.py:30: The name tf.keras.initializers.TruncatedNormal is deprecated. Please use tf.compat.v1.keras.initializers.TruncatedNormal instead.\n",
      "\n",
      "W0611 21:09:15.508118 140706646267712 deprecation.py:506] From /home/nab/PycharmProjects/work/venv/lib/python3.6/site-packages/tensorflow/python/keras/initializers.py:94: calling TruncatedNormal.__init__ (from tensorflow.python.ops.init_ops) with dtype is deprecated and will be removed in a future version.\n",
      "Instructions for updating:\n",
      "Call initializer instance with the dtype argument instead of passing it to the constructor\n",
      "W0611 21:09:15.515448 140706646267712 deprecation.py:506] From /home/nab/PycharmProjects/work/venv/lib/python3.6/site-packages/tensorflow/python/ops/init_ops.py:1251: calling VarianceScaling.__init__ (from tensorflow.python.ops.init_ops) with dtype is deprecated and will be removed in a future version.\n",
      "Instructions for updating:\n",
      "Call initializer instance with the dtype argument instead of passing it to the constructor\n"
     ]
    }
   ],
   "source": [
    "from bert_dp import bert\n",
    "try:\n",
    "    del paraphrase_detector\n",
    "    tf.keras.backend.clear_session()\n",
    "    print('Session cleared')\n",
    "except NameError:\n",
    "    pass\n",
    "paraphrase_detector = tf.keras.Sequential([bert.BERT(name='bert'),\n",
    "                                           tf.keras.layers.Dropout(rate=0.5),\n",
    "                                           tf.keras.layers.Dense(NUM_CLASSES)])"
   ]
  },
  {
   "cell_type": "code",
   "execution_count": 9,
   "metadata": {},
   "outputs": [
    {
     "name": "stdout",
     "output_type": "stream",
     "text": [
      "Model constructed by means of passing one batch from array slice\n"
     ]
    }
   ],
   "source": [
    "# some data to pass through model in order to construct and autograph it\n",
    "try:\n",
    "    for s in batched_train_ds:\n",
    "        r = paraphrase_detector(s[0])\n",
    "        print('Model constructed by means of passing one batch from tf.data')\n",
    "        break\n",
    "except NameError:\n",
    "    r = paraphrase_detector.predict(x_train)\n",
    "    print('Model constructed by means of passing one batch from array slice')\n",
    "except RuntimeError:\n",
    "    paraphrase_detector.build(input_shape=(BATCH_SIZE, None if DYNAMIC_SEQ_LEN else MAX_LEN))\n",
    "    print('Model constructed using .build() method')"
   ]
  },
  {
   "cell_type": "code",
   "execution_count": 10,
   "metadata": {},
   "outputs": [],
   "source": [
    "from bert_dp.metrics import SparseBinaryF1Score\n",
    "\n",
    "NUM_EPOCHS = 5\n",
    "# VAL_EVERY_N_BATCHES = 52  # ~50, but better suited for paraphraser dataset\n",
    "# TRAIN_STEPS_PER_EPOCH = NUM_TRAIN_SAMPLES // BATCH_SIZE\n",
    "# VALIDATION_STEPS = 512 // BATCH_SIZE  # calculated by hand for now (~546 samples with droppping remainder)\n",
    "LEARNING_RATE = 2e-05\n",
    "# learning_rate = tf.keras.optimizers.schedules.PolynomialDecay(initial_learning_rate=LEARNING_RATE,\n",
    "#                                                               # n. of batches per epoch * ~NUM_EPOCHS for convergence \n",
    "#                                                               decay_steps=TRAIN_STEPS_PER_EPOCH * NUM_EPOCHS,\n",
    "#                                                               end_learning_rate=1e-06)\n",
    "# from bert_dp.weight_decay_optimizers import AdamW\n",
    "paraphrase_detector.compile(#optimizer=AdamW(weight_decay=0.01,\n",
    "#                                             learning_rate=LEARNING_RATE,\n",
    "#                                             epsilon=1e-6),  # as in bert_dp\n",
    "                            optimizer=tf.keras.optimizers.Adam(learning_rate=LEARNING_RATE,\n",
    "                                                               epsilon=1e-6),\n",
    "                            loss=tf.keras.losses.SparseCategoricalCrossentropy(from_logits=True),\n",
    "                            metrics=[tf.keras.metrics.SparseCategoricalAccuracy(),\n",
    "                                     SparseBinaryF1Score()\n",
    "                                    ])"
   ]
  },
  {
   "cell_type": "code",
   "execution_count": 13,
   "metadata": {},
   "outputs": [
    {
     "name": "stdout",
     "output_type": "stream",
     "text": [
      "1899/1899 [==============================] - 4s 2ms/sample - loss: 0.7348 - sparse_categorical_accuracy: 0.4234 - sparse_binary_f1_score: 0.3573\n"
     ]
    },
    {
     "data": {
      "text/plain": [
       "[0.7348496178817348, 0.42338073, 0.3572744]"
      ]
     },
     "execution_count": 13,
     "metadata": {},
     "output_type": "execute_result"
    }
   ],
   "source": [
    "# baseline to ensure something is learning\n",
    "# paraphrase_detector.evaluate(batched_test_ds)\n",
    "paraphrase_detector.evaluate(x=x_test, y=y_test, batch_size=BATCH_SIZE)"
   ]
  },
  {
   "cell_type": "code",
   "execution_count": 11,
   "metadata": {},
   "outputs": [
    {
     "data": {
      "text/plain": [
       "<tensorflow.python.training.tracking.util.CheckpointLoadStatus at 0x7fd1e3969710>"
      ]
     },
     "execution_count": 11,
     "metadata": {},
     "output_type": "execute_result"
    }
   ],
   "source": [
    "# paraphrase_detector.layers[0].load_weights('models/rubert_cased_L-12_H-768_A-12_v1_converted/bert_model').assert_consumed()"
   ]
  },
  {
   "cell_type": "code",
   "execution_count": 12,
   "metadata": {},
   "outputs": [
    {
     "ename": "AssertionError",
     "evalue": "Some Python objects were not bound to checkpointed values, likely due to changes in the Python program: [<tensorflow.python.keras.optimizer_v2.adam.Adam object at 0x7ff848ce3940>]",
     "output_type": "error",
     "traceback": [
      "\u001b[0;31m---------------------------------------------------------------------------\u001b[0m",
      "\u001b[0;31mAssertionError\u001b[0m                            Traceback (most recent call last)",
      "\u001b[0;32m<ipython-input-12-57defc345212>\u001b[0m in \u001b[0;36m<module>\u001b[0;34m()\u001b[0m\n\u001b[0;32m----> 1\u001b[0;31m \u001b[0mparaphrase_detector\u001b[0m\u001b[0;34m.\u001b[0m\u001b[0mload_weights\u001b[0m\u001b[0;34m(\u001b[0m\u001b[0;34m'models/paraphraser_rubert_converted/model_rubert'\u001b[0m\u001b[0;34m)\u001b[0m\u001b[0;34m.\u001b[0m\u001b[0massert_consumed\u001b[0m\u001b[0;34m(\u001b[0m\u001b[0;34m)\u001b[0m\u001b[0;34m\u001b[0m\u001b[0;34m\u001b[0m\u001b[0m\n\u001b[0m",
      "\u001b[0;32m/home/nab/PycharmProjects/work/venv/lib/python3.6/site-packages/tensorflow/python/training/tracking/util.py\u001b[0m in \u001b[0;36massert_consumed\u001b[0;34m(self)\u001b[0m\n\u001b[1;32m    664\u001b[0m     pretty_printer = _ObjectGraphProtoPrettyPrinter(\n\u001b[1;32m    665\u001b[0m         self._checkpoint.object_graph_proto)\n\u001b[0;32m--> 666\u001b[0;31m     \u001b[0mself\u001b[0m\u001b[0;34m.\u001b[0m\u001b[0massert_existing_objects_matched\u001b[0m\u001b[0;34m(\u001b[0m\u001b[0;34m)\u001b[0m\u001b[0;34m\u001b[0m\u001b[0;34m\u001b[0m\u001b[0m\n\u001b[0m\u001b[1;32m    667\u001b[0m     \u001b[0;32mfor\u001b[0m \u001b[0mnode_id\u001b[0m\u001b[0;34m,\u001b[0m \u001b[0mnode\u001b[0m \u001b[0;32min\u001b[0m \u001b[0menumerate\u001b[0m\u001b[0;34m(\u001b[0m\u001b[0mself\u001b[0m\u001b[0;34m.\u001b[0m\u001b[0m_checkpoint\u001b[0m\u001b[0;34m.\u001b[0m\u001b[0mobject_graph_proto\u001b[0m\u001b[0;34m.\u001b[0m\u001b[0mnodes\u001b[0m\u001b[0;34m)\u001b[0m\u001b[0;34m:\u001b[0m\u001b[0;34m\u001b[0m\u001b[0;34m\u001b[0m\u001b[0m\n\u001b[1;32m    668\u001b[0m       \u001b[0mtrackable\u001b[0m \u001b[0;34m=\u001b[0m \u001b[0mself\u001b[0m\u001b[0;34m.\u001b[0m\u001b[0m_checkpoint\u001b[0m\u001b[0;34m.\u001b[0m\u001b[0mobject_by_proto_id\u001b[0m\u001b[0;34m.\u001b[0m\u001b[0mget\u001b[0m\u001b[0;34m(\u001b[0m\u001b[0mnode_id\u001b[0m\u001b[0;34m,\u001b[0m \u001b[0;32mNone\u001b[0m\u001b[0;34m)\u001b[0m\u001b[0;34m\u001b[0m\u001b[0;34m\u001b[0m\u001b[0m\n",
      "\u001b[0;32m/home/nab/PycharmProjects/work/venv/lib/python3.6/site-packages/tensorflow/python/training/tracking/util.py\u001b[0m in \u001b[0;36massert_existing_objects_matched\u001b[0;34m(self)\u001b[0m\n\u001b[1;32m    728\u001b[0m           (\"Some Python objects were not bound to checkpointed values, likely \"\n\u001b[1;32m    729\u001b[0m            \"due to changes in the Python program: %s\") %\n\u001b[0;32m--> 730\u001b[0;31m           (list(unused_python_objects),))\n\u001b[0m\u001b[1;32m    731\u001b[0m     \u001b[0;32mreturn\u001b[0m \u001b[0mself\u001b[0m\u001b[0;34m\u001b[0m\u001b[0;34m\u001b[0m\u001b[0m\n\u001b[1;32m    732\u001b[0m \u001b[0;34m\u001b[0m\u001b[0m\n",
      "\u001b[0;31mAssertionError\u001b[0m: Some Python objects were not bound to checkpointed values, likely due to changes in the Python program: [<tensorflow.python.keras.optimizer_v2.adam.Adam object at 0x7ff848ce3940>]"
     ]
    }
   ],
   "source": [
    "paraphrase_detector.load_weights('models/paraphraser_rubert_converted/model_rubert').assert_consumed()"
   ]
  },
  {
   "cell_type": "markdown",
   "metadata": {},
   "source": [
    "# Training"
   ]
  },
  {
   "cell_type": "code",
   "execution_count": 16,
   "metadata": {},
   "outputs": [
    {
     "name": "stdout",
     "output_type": "stream",
     "text": [
      "1899/1899 [==============================] - 5s 2ms/sample - loss: 0.7434 - sparse_categorical_accuracy: 0.5972 - sparse_binary_f1_score: 0.0510\n"
     ]
    },
    {
     "data": {
      "text/plain": [
       "[0.7434239565792555, 0.5971564, 0.05097706]"
      ]
     },
     "execution_count": 16,
     "metadata": {},
     "output_type": "execute_result"
    }
   ],
   "source": [
    "# baseline to ensure something is learning\n",
    "# paraphrase_detector.evaluate(batched_test_ds)\n",
    "paraphrase_detector.evaluate(x=x_test, y=y_test, batch_size=BATCH_SIZE)"
   ]
  },
  {
   "cell_type": "code",
   "execution_count": 19,
   "metadata": {},
   "outputs": [],
   "source": [
    "# tf.keras.backend.set_learning_phase(1)"
   ]
  },
  {
   "cell_type": "code",
   "execution_count": 18,
   "metadata": {},
   "outputs": [
    {
     "name": "stdout",
     "output_type": "stream",
     "text": [
      "Train on 6689 samples, validate on 513 samples\n",
      "Epoch 1/5\n",
      "6689/6689 [==============================] - 51s 8ms/sample - loss: 0.8750 - sparse_categorical_accuracy: 0.5630 - sparse_binary_f1_score: 0.7033 - val_loss: 0.7937 - val_sparse_categorical_accuracy: 0.5906 - val_sparse_binary_f1_score: 0.7426\n",
      "Epoch 2/5\n",
      "6689/6689 [==============================] - 48s 7ms/sample - loss: 0.8355 - sparse_categorical_accuracy: 0.5703 - sparse_binary_f1_score: 0.6713 - val_loss: 0.8103 - val_sparse_categorical_accuracy: 0.4230 - val_sparse_binary_f1_score: 0.7229\n",
      "Epoch 3/5\n",
      "6689/6689 [==============================] - 48s 7ms/sample - loss: 0.7224 - sparse_categorical_accuracy: 0.6582 - sparse_binary_f1_score: 0.7389 - val_loss: 0.7031 - val_sparse_categorical_accuracy: 0.5965 - val_sparse_binary_f1_score: 0.7426\n",
      "Epoch 4/5\n",
      "6689/6689 [==============================] - 49s 7ms/sample - loss: 0.5389 - sparse_categorical_accuracy: 0.7660 - sparse_binary_f1_score: 0.7590 - val_loss: 0.8632 - val_sparse_categorical_accuracy: 0.6023 - val_sparse_binary_f1_score: 0.7426\n",
      "Epoch 5/5\n",
      "6689/6689 [==============================] - 49s 7ms/sample - loss: 0.3446 - sparse_categorical_accuracy: 0.8659 - sparse_binary_f1_score: 0.7735 - val_loss: 1.1099 - val_sparse_categorical_accuracy: 0.6140 - val_sparse_binary_f1_score: 0.7426\n"
     ]
    }
   ],
   "source": [
    "history = paraphrase_detector.fit(x=x_train,\n",
    "                                  y=y_train,\n",
    "                                  epochs=NUM_EPOCHS,\n",
    "                                  callbacks=[tf.keras.callbacks.TensorBoard(batch_size=BATCH_SIZE),\n",
    "                                             tf.keras.callbacks.ReduceLROnPlateau(monitor='val_sparse_binary_f1_score',\n",
    "                                                                                  factor=0.5,\n",
    "                                                                                  patience=3,\n",
    "                                                                                  min_lr=1e-06)],\n",
    "                                  validation_split=0.071)  # ~512 samples\n",
    "# history = paraphrase_detector.fit(x=batched_train_ds.repeat(),\n",
    "#                                   y=None,\n",
    "#                                   epochs=NUM_EPOCHS * TRAIN_STEPS_PER_EPOCH // VAL_EVERY_N_BATCHES,  # workaround for more frequent evaluation\n",
    "#                                   callbacks=[tf.keras.callbacks.TensorBoard(batch_size=BATCH_SIZE),\n",
    "#                                              tf.keras.callbacks.ReduceLROnPlateau(monitor='val_sparse_binary_f1_score',\n",
    "#                                                                                   factor=0.5,\n",
    "#                                                                                   patience=3,\n",
    "#                                                                                   min_lr=1e-06)],\n",
    "#                                   validation_data=batched_valid_ds,\n",
    "#                                   steps_per_epoch=VAL_EVERY_N_BATCHES,\n",
    "#                                   validation_steps=VALIDATION_STEPS)"
   ]
  },
  {
   "cell_type": "code",
   "execution_count": 19,
   "metadata": {},
   "outputs": [
    {
     "name": "stdout",
     "output_type": "stream",
     "text": [
      "1899/1899 [==============================] - 4s 2ms/sample - loss: 1.1100 - sparse_categorical_accuracy: 0.6114 - sparse_binary_f1_score: 0.7494\n"
     ]
    },
    {
     "data": {
      "text/plain": [
       "[1.1100106747166743, 0.6113744, 0.7494238]"
      ]
     },
     "execution_count": 19,
     "metadata": {},
     "output_type": "execute_result"
    }
   ],
   "source": [
    "# baseline to ensure something is learning\n",
    "# paraphrase_detector.evaluate(batched_test_ds)\n",
    "paraphrase_detector.evaluate(x=x_test, y=y_test, batch_size=BATCH_SIZE)"
   ]
  },
  {
   "cell_type": "code",
   "execution_count": null,
   "metadata": {},
   "outputs": [],
   "source": []
  }
 ],
 "metadata": {
  "kernelspec": {
   "display_name": "Python 3",
   "language": "python",
   "name": "python3"
  },
  "language_info": {
   "codemirror_mode": {
    "name": "ipython",
    "version": 3
   },
   "file_extension": ".py",
   "mimetype": "text/x-python",
   "name": "python",
   "nbconvert_exporter": "python",
   "pygments_lexer": "ipython3",
   "version": "3.6.3"
  },
  "pycharm": {
   "stem_cell": {
    "cell_type": "raw",
    "metadata": {
     "collapsed": false
    },
    "source": []
   }
  }
 },
 "nbformat": 4,
 "nbformat_minor": 1
}
