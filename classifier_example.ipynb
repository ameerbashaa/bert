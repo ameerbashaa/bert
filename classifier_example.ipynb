{
 "cells": [
  {
   "cell_type": "code",
   "execution_count": 1,
   "metadata": {
    "pycharm": {
     "is_executing": false
    }
   },
   "outputs": [],
   "source": [
    "#!pip install -q git+https://github.com/deepmipt/bert.git@feat/keras1 tensorflow-gpu==1.14.0rc0 deeppavlov"
   ]
  },
  {
   "cell_type": "code",
   "execution_count": 2,
   "metadata": {
    "pycharm": {
     "is_executing": false
    }
   },
   "outputs": [],
   "source": [
    "import tensorflow as tf"
   ]
  },
  {
   "cell_type": "code",
   "execution_count": 3,
   "metadata": {
    "pycharm": {
     "is_executing": false,
     "metadata": false,
     "name": "#%%\n"
    }
   },
   "outputs": [
    {
     "data": {
      "text/plain": [
       "'1.14.1-dev20190605'"
      ]
     },
     "execution_count": 3,
     "metadata": {},
     "output_type": "execute_result"
    }
   ],
   "source": [
    "tf.__version__"
   ]
  },
  {
   "cell_type": "code",
   "execution_count": 4,
   "metadata": {},
   "outputs": [],
   "source": [
    "# tf.compat.v1.enable_eager_execution()"
   ]
  },
  {
   "cell_type": "code",
   "execution_count": 5,
   "metadata": {},
   "outputs": [
    {
     "data": {
      "text/plain": [
       "False"
      ]
     },
     "execution_count": 5,
     "metadata": {},
     "output_type": "execute_result"
    }
   ],
   "source": [
    "tf.compat.v1.executing_eagerly()"
   ]
  },
  {
   "cell_type": "markdown",
   "metadata": {},
   "source": [
    "# Paraphrases data"
   ]
  },
  {
   "cell_type": "code",
   "execution_count": 6,
   "metadata": {
    "pycharm": {
     "name": "#%%\n"
    }
   },
   "outputs": [],
   "source": [
    "BATCH_SIZE = 64  # both for training and evaluation for now\n",
    "MAX_LEN = 52  # the longest sequence in the paraphrase dataset, workaroud that make shape of all batch tensors equal\n",
    "NUM_TRAIN_SAMPLES = 6656  # total of 7202 samples minus ~500 (actually 546) samples for validation\n",
    "DYNAMIC_SEQ_LEN = True  # whether to pad each batch to the maximum len in the batch, or in the whole dataset\n",
    "NUM_CLASSES = 2  # used if MULTICLASS\n",
    "DROP_REMAINDER = True # whether to for batches of fixed size"
   ]
  },
  {
   "cell_type": "code",
   "execution_count": 7,
   "metadata": {
    "pycharm": {
     "name": "#%%\n"
    }
   },
   "outputs": [
    {
     "data": {
      "text/plain": [
       "'./dataset/paraphraser.zip'"
      ]
     },
     "execution_count": 7,
     "metadata": {},
     "output_type": "execute_result"
    }
   ],
   "source": [
    "tf.keras.utils.get_file(\n",
    "    fname='paraphraser.zip',\n",
    "    origin='http://files.deeppavlov.ai/datasets/paraphraser.zip',\n",
    "    cache_subdir='dataset',\n",
    "    extract=True,\n",
    "    cache_dir='.'\n",
    ")"
   ]
  },
  {
   "cell_type": "code",
   "execution_count": 8,
   "metadata": {
    "pycharm": {
     "name": "#%%\n"
    }
   },
   "outputs": [
    {
     "data": {
      "text/plain": [
       "'./dataset/paraphraser_gold.zip'"
      ]
     },
     "execution_count": 8,
     "metadata": {},
     "output_type": "execute_result"
    }
   ],
   "source": [
    "tf.keras.utils.get_file(\n",
    "    fname='paraphraser_gold.zip',\n",
    "    origin='http://files.deeppavlov.ai/datasets/paraphraser_gold.zip',\n",
    "    cache_subdir='dataset',\n",
    "    extract=True,\n",
    "    archive_format='zip',\n",
    "    cache_dir='.'\n",
    ")"
   ]
  },
  {
   "cell_type": "code",
   "execution_count": 9,
   "metadata": {
    "pycharm": {
     "name": "#%%\n"
    }
   },
   "outputs": [
    {
     "data": {
      "text/plain": [
       "'./models/rubert_cased_L-12_H-768_A-12_v1_converted.zip'"
      ]
     },
     "execution_count": 9,
     "metadata": {},
     "output_type": "execute_result"
    }
   ],
   "source": [
    "tf.keras.utils.get_file(\n",
    "    fname='rubert_cased_L-12_H-768_A-12_v1_converted.zip',\n",
    "    origin='http://files.deeppavlov.ai/deeppavlov_data/bert/rubert_cased_L-12_H-768_A-12_v1_converted.zip',\n",
    "    cache_subdir='models',\n",
    "    extract=True,\n",
    "    cache_dir='.'\n",
    ")"
   ]
  },
  {
   "cell_type": "code",
   "execution_count": 9,
   "metadata": {
    "pycharm": {
     "name": "#%%\n"
    }
   },
   "outputs": [],
   "source": [
    "def _truncate_seq_pair(tokens_a, tokens_b, max_length):\n",
    "    \"\"\"Truncates a sequence pair in place to the maximum length.\"\"\"\n",
    "\n",
    "    # This is a simple heuristic which will always truncate the longer sequence\n",
    "    # one token at a time. This makes more sense than truncating an equal percent\n",
    "    # of tokens from each, since if one sequence is very short then each token\n",
    "    # that's truncated likely contains more information than a longer sequence.\n",
    "    while True:\n",
    "        total_length = len(tokens_a) + len(tokens_b)\n",
    "        if total_length <= max_length:\n",
    "            break\n",
    "        if len(tokens_a) > len(tokens_b):\n",
    "            tokens_a.pop()\n",
    "        else:\n",
    "            tokens_b.pop()\n",
    "\n",
    "\n",
    "def data_gen(train_data=True):\n",
    "    from deeppavlov.dataset_readers.paraphraser_reader import ParaphraserReader\n",
    "    from bert_dp.tokenization import FullTokenizer\n",
    "    ds = ParaphraserReader().read(data_path='dataset', do_lower_case=False)\n",
    "    tokenizer = FullTokenizer(vocab_file='models/rubert_cased_L-12_H-768_A-12_v1_converted/vocab.txt', do_lower_case=False)\n",
    "    tds = ds['train'] if train_data else ds['test']\n",
    "    for pair, label in tds:\n",
    "        t1 = tokenizer.tokenize(pair[0])\n",
    "        t2 = tokenizer.tokenize(pair[1])\n",
    "        _truncate_seq_pair(t1, t2, 512)\n",
    "        s = ['[CLS]'] + t1 + ['[SEP]'] + t2 + ['[SEP]']\n",
    "        yield tokenizer.convert_tokens_to_ids(s), label"
   ]
  },
  {
   "cell_type": "code",
   "execution_count": 10,
   "metadata": {
    "pycharm": {
     "name": "#%%\n"
    }
   },
   "outputs": [
    {
     "name": "stderr",
     "output_type": "stream",
     "text": [
      "WARNING: Logging before flag parsing goes to stderr.\n",
      "W0607 12:07:23.528572 140364163557184 deprecation.py:323] From /home/nab/PycharmProjects/work/venv/lib/python3.6/site-packages/tensorflow/python/data/ops/dataset_ops.py:505: py_func (from tensorflow.python.ops.script_ops) is deprecated and will be removed in a future version.\n",
      "Instructions for updating:\n",
      "tf.py_func is deprecated in TF V2. Instead, there are two\n",
      "    options available in V2.\n",
      "    - tf.py_function takes a python function which manipulates tf eager\n",
      "    tensors instead of numpy arrays. It's easy to convert a tf eager tensor to\n",
      "    an ndarray (just call tensor.numpy()) but having access to eager tensors\n",
      "    means `tf.py_function`s can use accelerators such as GPUs as well as\n",
      "    being differentiable using a gradient tape.\n",
      "    - tf.numpy_function maintains the semantics of the deprecated tf.py_func\n",
      "    (it is not differentiable, and manipulates numpy arrays). It drops the\n",
      "    stateful argument making all functions stateful.\n",
      "    \n"
     ]
    }
   ],
   "source": [
    "train_ds_ = tf.data.Dataset.from_generator(data_gen,\n",
    "                                           output_types=(tf.int32, tf.int32),\n",
    "                                           output_shapes=(tf.TensorShape([None]),\n",
    "                                                          tf.TensorShape([])))"
   ]
  },
  {
   "cell_type": "code",
   "execution_count": 11,
   "metadata": {},
   "outputs": [],
   "source": [
    "train_ds = train_ds_.take(NUM_TRAIN_SAMPLES)\n",
    "valid_ds = train_ds_.skip(NUM_TRAIN_SAMPLES)\n",
    "batched_train_ds = train_ds.padded_batch(batch_size=BATCH_SIZE,\n",
    "                                         padded_shapes=([-1] if DYNAMIC_SEQ_LEN else MAX_LEN,\n",
    "                                                        ()),\n",
    "                                         drop_remainder=DROP_REMAINDER)\n",
    "batched_valid_ds = valid_ds.padded_batch(batch_size=BATCH_SIZE,\n",
    "                                         padded_shapes=([-1] if DYNAMIC_SEQ_LEN else MAX_LEN,\n",
    "                                                        ()),\n",
    "                                         drop_remainder=DROP_REMAINDER)\n",
    "test_ds = tf.data.Dataset.from_generator(data_gen,\n",
    "                                         output_types=(tf.int32, tf.int32),\n",
    "                                         output_shapes=(tf.TensorShape([None]),\n",
    "                                                        tf.TensorShape([])),\n",
    "                                         args=(False,))\n",
    "batched_test_ds = test_ds.padded_batch(batch_size=BATCH_SIZE,\n",
    "                                       padded_shapes=([-1] if DYNAMIC_SEQ_LEN else MAX_LEN,\n",
    "                                                      ()),\n",
    "                                       drop_remainder=DROP_REMAINDER)"
   ]
  },
  {
   "cell_type": "markdown",
   "metadata": {},
   "source": [
    "# Model construction and compilation for training"
   ]
  },
  {
   "cell_type": "code",
   "execution_count": 12,
   "metadata": {},
   "outputs": [
    {
     "name": "stderr",
     "output_type": "stream",
     "text": [
      "W0607 12:07:26.174345 140364163557184 deprecation_wrapper.py:118] From /home/nab/PycharmProjects/work/bert/bert_dp/embeddings.py:30: The name tf.keras.initializers.TruncatedNormal is deprecated. Please use tf.compat.v1.keras.initializers.TruncatedNormal instead.\n",
      "\n",
      "W0607 12:07:26.175071 140364163557184 deprecation.py:506] From /home/nab/PycharmProjects/work/venv/lib/python3.6/site-packages/tensorflow/python/keras/initializers.py:94: calling TruncatedNormal.__init__ (from tensorflow.python.ops.init_ops) with dtype is deprecated and will be removed in a future version.\n",
      "Instructions for updating:\n",
      "Call initializer instance with the dtype argument instead of passing it to the constructor\n"
     ]
    }
   ],
   "source": [
    "from bert_dp import bert\n",
    "try:\n",
    "    del paraphrase_detector\n",
    "    tf.keras.backend.clear_session()\n",
    "except NameError:\n",
    "    pass\n",
    "paraphrase_detector = tf.keras.Sequential([bert.BERT(name='bert'),\n",
    "                                           tf.keras.layers.Dropout(rate=0.5),\n",
    "                                           tf.keras.layers.Dense(NUM_CLASSES)])"
   ]
  },
  {
   "cell_type": "code",
   "execution_count": 13,
   "metadata": {},
   "outputs": [],
   "source": [
    "try:\n",
    "    # some data to pass through model in order to construct and autograph it\n",
    "    for s in batched_train_ds:\n",
    "        r = paraphrase_detector(s[0])\n",
    "        break\n",
    "except RuntimeError:\n",
    "    paraphrase_detector.build(input_shape=(BATCH_SIZE, None if DYNAMIC_SEQ_LEN else MAX_LEN))"
   ]
  },
  {
   "cell_type": "code",
   "execution_count": 14,
   "metadata": {},
   "outputs": [
    {
     "data": {
      "text/plain": [
       "<tensorflow.python.training.tracking.util.CheckpointLoadStatus at 0x7f18626118d0>"
      ]
     },
     "execution_count": 14,
     "metadata": {},
     "output_type": "execute_result"
    }
   ],
   "source": [
    "paraphrase_detector.layers[0].load_weights('models/rubert_cased_L-12_H-768_A-12_v1_converted/bert_model').assert_consumed()"
   ]
  },
  {
   "cell_type": "code",
   "execution_count": 14,
   "metadata": {},
   "outputs": [],
   "source": [
    "from bert_dp.metrics import SparseBinaryF1Score\n",
    "\n",
    "NUM_EPOCHS = 5\n",
    "VAL_EVERY_N_BATCHES = 104  # ~50, but better suited for paraphraser dataset\n",
    "TRAIN_STEPS_PER_EPOCH = NUM_TRAIN_SAMPLES // BATCH_SIZE\n",
    "VALIDATION_STEPS = 512 // BATCH_SIZE  # calculated by hand for now (~546 samples with droppping remainder)\n",
    "LEARNING_RATE = 2e-05\n",
    "# learning_rate = tf.keras.optimizers.schedules.PolynomialDecay(initial_learning_rate=LEARNING_RATE,\n",
    "#                                                               # n. of batches per epoch * ~NUM_EPOCHS for convergence \n",
    "#                                                               decay_steps=TRAIN_STEPS_PER_EPOCH * NUM_EPOCHS,\n",
    "#                                                               end_learning_rate=1e-06)\n",
    "# from bert_dp.weight_decay_optimizers import AdamW\n",
    "paraphrase_detector.compile(#optimizer=AdamW(weight_decay=0.01,\n",
    "#                                             learning_rate=LEARNING_RATE,\n",
    "#                                             epsilon=1e-6),  # as in bert_dp\n",
    "                            optimizer=tf.keras.optimizers.Adam(learning_rate=LEARNING_RATE,\n",
    "                                                               epsilon=1e-6),\n",
    "                            loss=tf.keras.losses.SparseCategoricalCrossentropy(from_logits=True),\n",
    "                            metrics=[tf.keras.metrics.SparseCategoricalAccuracy(),\n",
    "                                     SparseBinaryF1Score()\n",
    "                                    ])"
   ]
  },
  {
   "cell_type": "markdown",
   "metadata": {},
   "source": [
    "# Training"
   ]
  },
  {
   "cell_type": "code",
   "execution_count": 15,
   "metadata": {},
   "outputs": [
    {
     "name": "stderr",
     "output_type": "stream",
     "text": [
      "W0607 12:07:42.336478 140359774488320 deprecation_wrapper.py:118] From /home/nab/PycharmProjects/work/bert/bert_dp/tokenization.py:125: The name tf.gfile.GFile is deprecated. Please use tf.io.gfile.GFile instead.\n",
      "\n"
     ]
    },
    {
     "name": "stdout",
     "output_type": "stream",
     "text": [
      "     29/Unknown - 6s 192ms/step - loss: 0.7461 - sparse_categorical_accuracy: 0.4677 - sparse_binary_f1_score: 0.6349"
     ]
    },
    {
     "data": {
      "text/plain": [
       "[0.7460804314448916, 0.4676724, 0.6348548]"
      ]
     },
     "execution_count": 15,
     "metadata": {},
     "output_type": "execute_result"
    }
   ],
   "source": [
    "# baseline to ensure something is learning\n",
    "paraphrase_detector.evaluate(batched_test_ds)"
   ]
  },
  {
   "cell_type": "code",
   "execution_count": 16,
   "metadata": {},
   "outputs": [
    {
     "name": "stdout",
     "output_type": "stream",
     "text": [
      "Train on 104 steps, validate on 8 steps\n",
      "Epoch 1/5\n",
      "104/104 [==============================] - 39s 372ms/step - loss: 0.9467 - sparse_categorical_accuracy: 0.5541 - sparse_binary_f1_score: 0.5373 - val_loss: 0.8014 - val_sparse_categorical_accuracy: 0.6133 - val_sparse_binary_f1_score: 0.0000e+00\n",
      "Epoch 2/5\n",
      "104/104 [==============================] - 33s 322ms/step - loss: 0.8680 - sparse_categorical_accuracy: 0.5556 - sparse_binary_f1_score: 0.5190 - val_loss: 0.7088 - val_sparse_categorical_accuracy: 0.6133 - val_sparse_binary_f1_score: 0.0000e+00\n",
      "Epoch 3/5\n",
      "104/104 [==============================] - 34s 329ms/step - loss: 0.8311 - sparse_categorical_accuracy: 0.5712 - sparse_binary_f1_score: 0.4668 - val_loss: 0.7239 - val_sparse_categorical_accuracy: 0.6133 - val_sparse_binary_f1_score: 0.0000e+00\n",
      "Epoch 4/5\n",
      "104/104 [==============================] - 35s 332ms/step - loss: 0.8209 - sparse_categorical_accuracy: 0.5721 - sparse_binary_f1_score: 0.3589 - val_loss: 0.7200 - val_sparse_categorical_accuracy: 0.6133 - val_sparse_binary_f1_score: 0.0000e+00\n",
      "Epoch 5/5\n",
      "104/104 [==============================] - 35s 332ms/step - loss: 0.7892 - sparse_categorical_accuracy: 0.5772 - sparse_binary_f1_score: 0.3152 - val_loss: 0.6684 - val_sparse_categorical_accuracy: 0.6133 - val_sparse_binary_f1_score: 0.0000e+00\n"
     ]
    }
   ],
   "source": [
    "history = paraphrase_detector.fit(x=batched_train_ds.repeat(),\n",
    "                                  y=None,\n",
    "                                  epochs=NUM_EPOCHS * TRAIN_STEPS_PER_EPOCH // VAL_EVERY_N_BATCHES,  # workaround for more frequent evaluation\n",
    "                                  callbacks=[tf.keras.callbacks.TensorBoard(batch_size=BATCH_SIZE),\n",
    "                                             tf.keras.callbacks.ReduceLROnPlateau(monitor='val_sparse_binary_f1_score',\n",
    "                                                                                  factor=0.5,\n",
    "                                                                                  patience=3,\n",
    "                                                                                  min_lr=1e-06)],\n",
    "                                  validation_data=batched_valid_ds,\n",
    "                                  steps_per_epoch=VAL_EVERY_N_BATCHES,\n",
    "                                  validation_steps=VALIDATION_STEPS)"
   ]
  },
  {
   "cell_type": "code",
   "execution_count": 17,
   "metadata": {},
   "outputs": [
    {
     "name": "stdout",
     "output_type": "stream",
     "text": [
      "     29/Unknown - 6s 195ms/step - loss: 0.6770 - sparse_categorical_accuracy: 0.5981 - sparse_binary_f1_score: 0.0000e+00"
     ]
    },
    {
     "data": {
      "text/plain": [
       "[0.6769602874229694, 0.59806037, 0.0]"
      ]
     },
     "execution_count": 17,
     "metadata": {},
     "output_type": "execute_result"
    }
   ],
   "source": [
    "paraphrase_detector.evaluate(batched_test_ds)"
   ]
  },
  {
   "cell_type": "code",
   "execution_count": null,
   "metadata": {},
   "outputs": [],
   "source": []
  }
 ],
 "metadata": {
  "kernelspec": {
   "display_name": "Python 3",
   "language": "python",
   "name": "python3"
  },
  "language_info": {
   "codemirror_mode": {
    "name": "ipython",
    "version": 3
   },
   "file_extension": ".py",
   "mimetype": "text/x-python",
   "name": "python",
   "nbconvert_exporter": "python",
   "pygments_lexer": "ipython3",
   "version": "3.6.3"
  },
  "pycharm": {
   "stem_cell": {
    "cell_type": "raw",
    "metadata": {
     "collapsed": false
    },
    "source": []
   }
  }
 },
 "nbformat": 4,
 "nbformat_minor": 1
}
