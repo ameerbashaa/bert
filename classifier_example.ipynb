{
 "cells": [
  {
   "cell_type": "code",
   "execution_count": 1,
   "metadata": {
    "pycharm": {
     "is_executing": false
    }
   },
   "outputs": [],
   "source": [
    "#!pip install -q git+https://github.com/deepmipt/bert.git@feat/keras1 tensorflow-gpu==1.14.0rc0 deeppavlov"
   ]
  },
  {
   "cell_type": "code",
   "execution_count": 2,
   "metadata": {
    "pycharm": {
     "is_executing": false
    }
   },
   "outputs": [],
   "source": [
    "import tensorflow as tf"
   ]
  },
  {
   "cell_type": "code",
   "execution_count": 3,
   "metadata": {
    "pycharm": {
     "is_executing": false,
     "metadata": false,
     "name": "#%%\n"
    }
   },
   "outputs": [
    {
     "data": {
      "text/plain": [
       "'1.14.0-rc0'"
      ]
     },
     "execution_count": 3,
     "metadata": {},
     "output_type": "execute_result"
    }
   ],
   "source": [
    "tf.__version__"
   ]
  },
  {
   "cell_type": "code",
   "execution_count": 4,
   "metadata": {},
   "outputs": [],
   "source": [
    "# tf.compat.v1.enable_eager_execution()"
   ]
  },
  {
   "cell_type": "code",
   "execution_count": 5,
   "metadata": {},
   "outputs": [
    {
     "data": {
      "text/plain": [
       "False"
      ]
     },
     "execution_count": 5,
     "metadata": {},
     "output_type": "execute_result"
    }
   ],
   "source": [
    "tf.compat.v1.executing_eagerly()"
   ]
  },
  {
   "cell_type": "markdown",
   "metadata": {},
   "source": [
    "# Paraphrases data"
   ]
  },
  {
   "cell_type": "code",
   "execution_count": 6,
   "metadata": {
    "pycharm": {
     "name": "#%%\n"
    }
   },
   "outputs": [],
   "source": [
    "BATCH_SIZE = 64  # both for training and evaluation for now\n",
    "MAX_LEN = 52  # the longest sequence in the paraphrase dataset, workaroud that make shape of all batch tensors equal\n",
    "NUM_TRAIN_SAMPLES = 6656  # total of 7202 samples minus ~500 (actually 546) samples for validation"
   ]
  },
  {
   "cell_type": "code",
   "execution_count": 7,
   "metadata": {
    "pycharm": {
     "name": "#%%\n"
    }
   },
   "outputs": [
    {
     "data": {
      "text/plain": [
       "'./dataset/paraphraser.zip'"
      ]
     },
     "execution_count": 7,
     "metadata": {},
     "output_type": "execute_result"
    }
   ],
   "source": [
    "tf.keras.utils.get_file(\n",
    "    fname='paraphraser.zip',\n",
    "    origin='http://files.deeppavlov.ai/datasets/paraphraser.zip',\n",
    "    cache_subdir='dataset',\n",
    "    extract=True,\n",
    "    cache_dir='.'\n",
    ")"
   ]
  },
  {
   "cell_type": "code",
   "execution_count": 8,
   "metadata": {
    "pycharm": {
     "name": "#%%\n"
    }
   },
   "outputs": [
    {
     "data": {
      "text/plain": [
       "'./dataset/paraphraser_gold.zip'"
      ]
     },
     "execution_count": 8,
     "metadata": {},
     "output_type": "execute_result"
    }
   ],
   "source": [
    "tf.keras.utils.get_file(\n",
    "    fname='paraphraser_gold.zip',\n",
    "    origin='http://files.deeppavlov.ai/datasets/paraphraser_gold.zip',\n",
    "    cache_subdir='dataset',\n",
    "    extract=True,\n",
    "    archive_format='zip',\n",
    "    cache_dir='.'\n",
    ")"
   ]
  },
  {
   "cell_type": "code",
   "execution_count": 9,
   "metadata": {
    "pycharm": {
     "name": "#%%\n"
    }
   },
   "outputs": [
    {
     "data": {
      "text/plain": [
       "'./models/rubert_cased_L-12_H-768_A-12_v1_converted.zip'"
      ]
     },
     "execution_count": 9,
     "metadata": {},
     "output_type": "execute_result"
    }
   ],
   "source": [
    "tf.keras.utils.get_file(\n",
    "    fname='rubert_cased_L-12_H-768_A-12_v1_converted.zip',\n",
    "    origin='http://files.deeppavlov.ai/deeppavlov_data/bert/rubert_cased_L-12_H-768_A-12_v1_converted.zip',\n",
    "    cache_subdir='models',\n",
    "    extract=True,\n",
    "    cache_dir='.'\n",
    ")"
   ]
  },
  {
   "cell_type": "code",
   "execution_count": 7,
   "metadata": {
    "pycharm": {
     "name": "#%%\n"
    }
   },
   "outputs": [],
   "source": [
    "def _truncate_seq_pair(tokens_a, tokens_b, max_length):\n",
    "    \"\"\"Truncates a sequence pair in place to the maximum length.\"\"\"\n",
    "\n",
    "    # This is a simple heuristic which will always truncate the longer sequence\n",
    "    # one token at a time. This makes more sense than truncating an equal percent\n",
    "    # of tokens from each, since if one sequence is very short then each token\n",
    "    # that's truncated likely contains more information than a longer sequence.\n",
    "    while True:\n",
    "        total_length = len(tokens_a) + len(tokens_b)\n",
    "        if total_length <= max_length:\n",
    "            break\n",
    "        if len(tokens_a) > len(tokens_b):\n",
    "            tokens_a.pop()\n",
    "        else:\n",
    "            tokens_b.pop()\n",
    "\n",
    "\n",
    "def data_gen(train_data=True):\n",
    "    from deeppavlov.dataset_readers.paraphraser_reader import ParaphraserReader\n",
    "    from bert_dp.tokenization import FullTokenizer\n",
    "    ds = ParaphraserReader().read(data_path='dataset', do_lower_case=False)\n",
    "    tokenizer = FullTokenizer(vocab_file='models/rubert_cased_L-12_H-768_A-12_v1/vocab.txt', do_lower_case=False)\n",
    "    tds = ds['train'] if train_data else ds['test']\n",
    "    for pair, label in tds:\n",
    "        t1 = tokenizer.tokenize(pair[0])\n",
    "        t2 = tokenizer.tokenize(pair[1])\n",
    "        _truncate_seq_pair(t1, t2, 512)\n",
    "        s = ['[CLS]'] + t1 + ['[SEP]'] + t2 + ['[SEP]']\n",
    "        yield tokenizer.convert_tokens_to_ids(s), label  # tf.one_hot(label, depth=2, dtype=tf.int32)"
   ]
  },
  {
   "cell_type": "code",
   "execution_count": 8,
   "metadata": {
    "pycharm": {
     "name": "#%%\n"
    }
   },
   "outputs": [
    {
     "name": "stderr",
     "output_type": "stream",
     "text": [
      "WARNING: Logging before flag parsing goes to stderr.\n",
      "W0605 16:41:17.668468 139940610430784 deprecation.py:323] From /home/nab/PycharmProjects/work/venv/lib/python3.6/site-packages/tensorflow/python/data/ops/dataset_ops.py:494: py_func (from tensorflow.python.ops.script_ops) is deprecated and will be removed in a future version.\n",
      "Instructions for updating:\n",
      "tf.py_func is deprecated in TF V2. Instead, there are two\n",
      "    options available in V2.\n",
      "    - tf.py_function takes a python function which manipulates tf eager\n",
      "    tensors instead of numpy arrays. It's easy to convert a tf eager tensor to\n",
      "    an ndarray (just call tensor.numpy()) but having access to eager tensors\n",
      "    means `tf.py_function`s can use accelerators such as GPUs as well as\n",
      "    being differentiable using a gradient tape.\n",
      "    - tf.numpy_function maintains the semantics of the deprecated tf.py_func\n",
      "    (it is not differentiable, and manipulates numpy arrays). It drops the\n",
      "    stateful argument making all functions stateful.\n",
      "    \n"
     ]
    }
   ],
   "source": [
    "train_ds_ = tf.data.Dataset.from_generator(data_gen,\n",
    "                                           output_types=(tf.int32, tf.int32),\n",
    "                                           output_shapes=(tf.TensorShape([None]), tf.TensorShape([])))"
   ]
  },
  {
   "cell_type": "code",
   "execution_count": 9,
   "metadata": {},
   "outputs": [],
   "source": [
    "train_ds = train_ds_.take(NUM_TRAIN_SAMPLES)\n",
    "valid_ds = train_ds_.skip(NUM_TRAIN_SAMPLES)\n",
    "batched_train_ds = train_ds.padded_batch(batch_size=BATCH_SIZE,\n",
    "                                         padded_shapes=(MAX_LEN,  # tf.constant([-1], dtype=tf.int64),\n",
    "                                                        ()),  # 2),\n",
    "                                         drop_remainder=True)  # fixed batch size for now\n",
    "batched_valid_ds = valid_ds.padded_batch(batch_size=BATCH_SIZE,\n",
    "                                         padded_shapes=(MAX_LEN,  # tf.constant([-1], dtype=tf.int64),\n",
    "                                                        ()),  # 2),\n",
    "                                         drop_remainder=True)\n",
    "test_ds = tf.data.Dataset.from_generator(data_gen,\n",
    "                                         output_types=(tf.int32, tf.int32),\n",
    "                                         output_shapes=(tf.TensorShape([None]), tf.TensorShape([])),\n",
    "                                         args=(False,))\n",
    "batched_test_ds = test_ds.padded_batch(batch_size=BATCH_SIZE,\n",
    "                                       padded_shapes=(MAX_LEN,  # tf.constant([-1], dtype=tf.int64),\n",
    "                                                      ()),  # 2),\n",
    "                                       drop_remainder=True)  # fixed batch size for now"
   ]
  },
  {
   "cell_type": "markdown",
   "metadata": {},
   "source": [
    "# Model construction and compilation for training"
   ]
  },
  {
   "cell_type": "code",
   "execution_count": 10,
   "metadata": {},
   "outputs": [
    {
     "name": "stderr",
     "output_type": "stream",
     "text": [
      "W0605 16:41:22.793537 139940610430784 deprecation_wrapper.py:119] From /home/nab/PycharmProjects/work/bert/bert_dp/embeddings.py:30: The name tf.keras.initializers.TruncatedNormal is deprecated. Please use tf.compat.v1.keras.initializers.TruncatedNormal instead.\n",
      "\n",
      "W0605 16:41:22.794115 139940610430784 deprecation.py:506] From /home/nab/PycharmProjects/work/venv/lib/python3.6/site-packages/tensorflow/python/keras/initializers.py:94: calling TruncatedNormal.__init__ (from tensorflow.python.ops.init_ops) with dtype is deprecated and will be removed in a future version.\n",
      "Instructions for updating:\n",
      "Call initializer instance with the dtype argument instead of passing it to the constructor\n",
      "W0605 16:41:22.799962 139940610430784 deprecation.py:506] From /home/nab/PycharmProjects/work/venv/lib/python3.6/site-packages/tensorflow/python/ops/init_ops.py:1251: calling VarianceScaling.__init__ (from tensorflow.python.ops.init_ops) with dtype is deprecated and will be removed in a future version.\n",
      "Instructions for updating:\n",
      "Call initializer instance with the dtype argument instead of passing it to the constructor\n"
     ]
    }
   ],
   "source": [
    "from bert_dp import bert\n",
    "# some data to pass through model in order to construct and autograph it\n",
    "bert_layer = bert.BERT(name='bert') # naming is important for compatibility with checkpoints\n",
    "for s in batched_train_ds:\n",
    "    r = bert_layer(s[0])\n",
    "    break"
   ]
  },
  {
   "cell_type": "code",
   "execution_count": 11,
   "metadata": {},
   "outputs": [],
   "source": [
    "try:\n",
    "    del paraphrase_detector\n",
    "except NameError:\n",
    "    pass\n",
    "paraphrase_detector = tf.keras.Sequential([bert_layer, tf.keras.layers.Dense(1, activation='sigmoid')])"
   ]
  },
  {
   "cell_type": "code",
   "execution_count": 13,
   "metadata": {},
   "outputs": [],
   "source": [
    "from bert_dp.metrics import BinaryF1Score\n",
    "\n",
    "NUM_EPOCHS = 10\n",
    "VAL_EVERY_N_BATCHES = 52  # ~50, but better suited for paraphraser dataset\n",
    "TRAIN_STEPS_PER_EPOCH = NUM_TRAIN_SAMPLES // BATCH_SIZE\n",
    "VALIDATION_STEPS = 8  # calculated by hand for now (~546 samples in batches of 64 with droppping remainder)\n",
    "LEARNING_RATE = 2e-05\n",
    "# learning_rate = tf.keras.optimizers.schedules.PolynomialDecay(initial_learning_rate=LEARNING_RATE,\n",
    "#                                                               # n. of batches per epoch * ~NUM_EPOCHS for convergence \n",
    "#                                                               decay_steps=STEPS_PER_EPOCH * NUM_EPOCHS,\n",
    "#                                                               end_learning_rate=1e-06)\n",
    "# from bert_dp.weight_decay_optimizers import AdamW\n",
    "paraphrase_detector.compile(#optimizer=AdamW(weight_decay=0.01,\n",
    "#                                             learning_rate=LEARNING_RATE,\n",
    "#                                             epsilon=1e-6),  # as in bert_dp\n",
    "                            optimizer=tf.keras.optimizers.Adam(learning_rate=LEARNING_RATE,\n",
    "                                                               epsilon=1e-6),\n",
    "                            loss=tf.keras.losses.BinaryCrossentropy(from_logits=False),\n",
    "                            metrics=[tf.keras.metrics.BinaryAccuracy(),\n",
    "#                                      tf.keras.metrics.Precision(class_id=1),\n",
    "#                                      tf.keras.metrics.Recall(class_id=1),\n",
    "                                     tf.keras.metrics.Precision(),\n",
    "                                     tf.keras.metrics.Recall(),\n",
    "                                     BinaryF1Score()\n",
    "                                    ])"
   ]
  },
  {
   "cell_type": "markdown",
   "metadata": {},
   "source": [
    "# Training"
   ]
  },
  {
   "cell_type": "code",
   "execution_count": 14,
   "metadata": {},
   "outputs": [
    {
     "name": "stderr",
     "output_type": "stream",
     "text": [
      "W0605 16:41:47.683248 139940610430784 deprecation.py:323] From /home/nab/PycharmProjects/work/venv/lib/python3.6/site-packages/tensorflow/python/ops/nn_impl.py:180: add_dispatch_support.<locals>.wrapper (from tensorflow.python.ops.array_ops) is deprecated and will be removed in a future version.\n",
      "Instructions for updating:\n",
      "Use tf.where in 2.0, which has the same broadcast rule as np.where\n",
      "W0605 16:41:50.440803 139934998292224 deprecation_wrapper.py:119] From /home/nab/PycharmProjects/work/bert/bert_dp/tokenization.py:125: The name tf.gfile.GFile is deprecated. Please use tf.io.gfile.GFile instead.\n",
      "\n"
     ]
    },
    {
     "name": "stdout",
     "output_type": "stream",
     "text": [
      "     29/Unknown - 7s 236ms/step - loss: 0.7108 - binary_accuracy: 0.4957 - precision: 0.6295 - recall: 0.3811 - binary_f1score: 0.4747"
     ]
    }
   ],
   "source": [
    "paraphrase_detector.evaluate(batched_test_ds)"
   ]
  },
  {
   "cell_type": "code",
   "execution_count": 17,
   "metadata": {},
   "outputs": [
    {
     "data": {
      "text/plain": [
       "<tensorflow.python.training.tracking.util.CheckpointLoadStatus at 0x7f455407e550>"
      ]
     },
     "execution_count": 17,
     "metadata": {},
     "output_type": "execute_result"
    }
   ],
   "source": [
    "bert_layer.load_weights('models/rubert_cased_L-12_H-768_A-12_v1_converted/bert_model').assert_consumed()"
   ]
  },
  {
   "cell_type": "code",
   "execution_count": 18,
   "metadata": {},
   "outputs": [
    {
     "name": "stdout",
     "output_type": "stream",
     "text": [
      "     29/Unknown - 6s 219ms/step - loss: 0.7059 - binary_accuracy: 0.4952 - precision: 0.5973 - recall: 0.4784 - binary_f1score: 0.5313"
     ]
    },
    {
     "data": {
      "text/plain": [
       "[0.7059423676852522, 0.49515086, 0.59730035, 0.4783784, 0.5312656]"
      ]
     },
     "execution_count": 18,
     "metadata": {},
     "output_type": "execute_result"
    }
   ],
   "source": [
    "paraphrase_detector.evaluate(batched_test_ds)"
   ]
  },
  {
   "cell_type": "code",
   "execution_count": 19,
   "metadata": {},
   "outputs": [
    {
     "name": "stdout",
     "output_type": "stream",
     "text": [
      "Epoch 1/20\n",
      "52/52 [==============================] - 30s 582ms/step - loss: 0.7495 - binary_accuracy: 0.6142 - precision: 0.6693 - recall: 0.8443 - binary_f1score: 0.7466 - val_loss: 0.6736 - val_binary_accuracy: 0.6133 - val_precision: 0.6133 - val_recall: 1.0000 - val_binary_f1score: 0.7603\n",
      "Epoch 2/20\n",
      "52/52 [==============================] - 24s 459ms/step - loss: 0.6813 - binary_accuracy: 0.6073 - precision: 0.6303 - recall: 0.8877 - binary_f1score: 0.7372 - val_loss: 0.6673 - val_binary_accuracy: 0.6133 - val_precision: 0.6133 - val_recall: 1.0000 - val_binary_f1score: 0.7603\n",
      "Epoch 3/20\n",
      "52/52 [==============================] - 24s 468ms/step - loss: 0.6594 - binary_accuracy: 0.6605 - precision: 0.6743 - recall: 0.9589 - binary_f1score: 0.7918 - val_loss: 0.6814 - val_binary_accuracy: 0.6133 - val_precision: 0.6133 - val_recall: 1.0000 - val_binary_f1score: 0.7603\n",
      "Epoch 4/20\n",
      "52/52 [==============================] - 25s 481ms/step - loss: 0.6763 - binary_accuracy: 0.6058 - precision: 0.6250 - recall: 0.9114 - binary_f1score: 0.7415 - val_loss: 0.6675 - val_binary_accuracy: 0.6133 - val_precision: 0.6133 - val_recall: 1.0000 - val_binary_f1score: 0.7603\n",
      "Epoch 5/20\n",
      "52/52 [==============================] - 25s 477ms/step - loss: 0.6437 - binary_accuracy: 0.6692 - precision: 0.6728 - recall: 0.9902 - binary_f1score: 0.8012 - val_loss: 0.6727 - val_binary_accuracy: 0.6133 - val_precision: 0.6133 - val_recall: 1.0000 - val_binary_f1score: 0.7603\n",
      "Epoch 6/20\n",
      "52/52 [==============================] - 25s 475ms/step - loss: 0.6746 - binary_accuracy: 0.5971 - precision: 0.6197 - recall: 0.9075 - binary_f1score: 0.7365 - val_loss: 0.6946 - val_binary_accuracy: 0.3867 - val_precision: 0.0000e+00 - val_recall: 0.0000e+00 - val_binary_f1score: 0.0000e+00\n",
      "Epoch 7/20\n",
      "52/52 [==============================] - 25s 490ms/step - loss: 0.6511 - binary_accuracy: 0.6635 - precision: 0.6726 - recall: 0.9746 - binary_f1score: 0.7959 - val_loss: 0.6730 - val_binary_accuracy: 0.6133 - val_precision: 0.6133 - val_recall: 1.0000 - val_binary_f1score: 0.7603\n",
      "Epoch 8/20\n",
      "52/52 [==============================] - 25s 477ms/step - loss: 0.6717 - binary_accuracy: 0.6061 - precision: 0.6224 - recall: 0.9283 - binary_f1score: 0.7452 - val_loss: 0.6947 - val_binary_accuracy: 0.3867 - val_precision: 0.0000e+00 - val_recall: 0.0000e+00 - val_binary_f1score: 0.0000e+00\n",
      "Epoch 9/20\n",
      "52/52 [==============================] - 25s 487ms/step - loss: 0.6493 - binary_accuracy: 0.6629 - precision: 0.6717 - recall: 0.9768 - binary_f1score: 0.7960 - val_loss: 0.6719 - val_binary_accuracy: 0.6133 - val_precision: 0.6133 - val_recall: 1.0000 - val_binary_f1score: 0.7603\n",
      "Epoch 10/20\n",
      "52/52 [==============================] - 25s 479ms/step - loss: 0.6697 - binary_accuracy: 0.6178 - precision: 0.6198 - recall: 0.9937 - binary_f1score: 0.7634 - val_loss: 0.6852 - val_binary_accuracy: 0.6133 - val_precision: 0.6133 - val_recall: 1.0000 - val_binary_f1score: 0.7603\n",
      "Epoch 11/20\n",
      "52/52 [==============================] - 25s 486ms/step - loss: 0.6494 - binary_accuracy: 0.6716 - precision: 0.6732 - recall: 0.9955 - binary_f1score: 0.8032 - val_loss: 0.6688 - val_binary_accuracy: 0.6133 - val_precision: 0.6133 - val_recall: 1.0000 - val_binary_f1score: 0.7603\n",
      "Epoch 12/20\n",
      "52/52 [==============================] - 25s 485ms/step - loss: 0.6685 - binary_accuracy: 0.6184 - precision: 0.6203 - recall: 0.9927 - binary_f1score: 0.7635 - val_loss: 0.6857 - val_binary_accuracy: 0.6133 - val_precision: 0.6133 - val_recall: 1.0000 - val_binary_f1score: 0.7603\n",
      "Epoch 13/20\n",
      "52/52 [==============================] - 26s 491ms/step - loss: 0.6494 - binary_accuracy: 0.6692 - precision: 0.6722 - recall: 0.9929 - binary_f1score: 0.8017 - val_loss: 0.6673 - val_binary_accuracy: 0.6133 - val_precision: 0.6133 - val_recall: 1.0000 - val_binary_f1score: 0.7603\n",
      "Epoch 14/20\n",
      "52/52 [==============================] - 25s 482ms/step - loss: 0.6669 - binary_accuracy: 0.6205 - precision: 0.6205 - recall: 1.0000 - binary_f1score: 0.7658 - val_loss: 0.6714 - val_binary_accuracy: 0.6133 - val_precision: 0.6133 - val_recall: 1.0000 - val_binary_f1score: 0.7603\n",
      "Epoch 15/20\n",
      "52/52 [==============================] - 26s 493ms/step - loss: 0.6417 - binary_accuracy: 0.6734 - precision: 0.6734 - recall: 1.0000 - binary_f1score: 0.8048 - val_loss: 0.6673 - val_binary_accuracy: 0.6133 - val_precision: 0.6133 - val_recall: 1.0000 - val_binary_f1score: 0.7603\n",
      "Epoch 16/20\n",
      "52/52 [==============================] - 26s 494ms/step - loss: 0.6663 - binary_accuracy: 0.6205 - precision: 0.6205 - recall: 1.0000 - binary_f1score: 0.7658 - val_loss: 0.6680 - val_binary_accuracy: 0.6133 - val_precision: 0.6133 - val_recall: 1.0000 - val_binary_f1score: 0.7603\n",
      "Epoch 17/20\n",
      "52/52 [==============================] - 26s 496ms/step - loss: 0.6395 - binary_accuracy: 0.6734 - precision: 0.6734 - recall: 1.0000 - binary_f1score: 0.8048 - val_loss: 0.6677 - val_binary_accuracy: 0.6133 - val_precision: 0.6133 - val_recall: 1.0000 - val_binary_f1score: 0.7603\n",
      "Epoch 18/20\n",
      "52/52 [==============================] - 26s 495ms/step - loss: 0.6676 - binary_accuracy: 0.6205 - precision: 0.6205 - recall: 1.0000 - binary_f1score: 0.7658 - val_loss: 0.6680 - val_binary_accuracy: 0.6133 - val_precision: 0.6133 - val_recall: 1.0000 - val_binary_f1score: 0.7603\n",
      "Epoch 19/20\n",
      "52/52 [==============================] - 26s 495ms/step - loss: 0.6397 - binary_accuracy: 0.6734 - precision: 0.6734 - recall: 1.0000 - binary_f1score: 0.8048 - val_loss: 0.6677 - val_binary_accuracy: 0.6133 - val_precision: 0.6133 - val_recall: 1.0000 - val_binary_f1score: 0.7603\n",
      "Epoch 20/20\n",
      "52/52 [==============================] - 25s 477ms/step - loss: 0.6674 - binary_accuracy: 0.6205 - precision: 0.6205 - recall: 1.0000 - binary_f1score: 0.7658 - val_loss: 0.6676 - val_binary_accuracy: 0.6133 - val_precision: 0.6133 - val_recall: 1.0000 - val_binary_f1score: 0.7603\n"
     ]
    }
   ],
   "source": [
    "history = paraphrase_detector.fit(x=batched_train_ds.repeat(),\n",
    "                                  y=None,\n",
    "                                  epochs=NUM_EPOCHS * TRAIN_STEPS_PER_EPOCH // VAL_EVERY_N_BATCHES,  # workaround for more frequent evaluation\n",
    "                                  callbacks=[tf.keras.callbacks.TensorBoard(batch_size=BATCH_SIZE),\n",
    "                                             tf.keras.callbacks.ReduceLROnPlateau(monitor='val_binary_f1score',\n",
    "                                                                                  factor=0.5,\n",
    "                                                                                  patience=3,\n",
    "                                                                                  min_lr=1e-06)],\n",
    "                                  validation_data=batched_valid_ds,\n",
    "                                  steps_per_epoch=VAL_EVERY_N_BATCHES,\n",
    "                                  validation_steps=VALIDATION_STEPS)"
   ]
  },
  {
   "cell_type": "code",
   "execution_count": null,
   "metadata": {},
   "outputs": [],
   "source": []
  }
 ],
 "metadata": {
  "kernelspec": {
   "display_name": "Python 3",
   "language": "python",
   "name": "python3"
  },
  "language_info": {
   "codemirror_mode": {
    "name": "ipython",
    "version": 3
   },
   "file_extension": ".py",
   "mimetype": "text/x-python",
   "name": "python",
   "nbconvert_exporter": "python",
   "pygments_lexer": "ipython3",
   "version": "3.6.3"
  },
  "pycharm": {
   "stem_cell": {
    "cell_type": "raw",
    "metadata": {
     "collapsed": false
    },
    "source": []
   }
  }
 },
 "nbformat": 4,
 "nbformat_minor": 1
}
